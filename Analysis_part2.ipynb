{
 "cells": [
  {
   "cell_type": "markdown",
   "id": "ee9c34df-ae5d-4461-9bc5-417bfc194de7",
   "metadata": {},
   "source": [
    "## Creating stylometry dataset"
   ]
  },
  {
   "cell_type": "code",
   "execution_count": 5,
   "id": "5b9b8d1f-2a2b-4806-b5eb-f0d8b57dd1c1",
   "metadata": {},
   "outputs": [
    {
     "name": "stdout",
     "output_type": "stream",
     "text": [
      "🕵️ Starting Stylometry Paper Collection...\n",
      "This will fetch ALL possible papers matching the stylometry search terms.\n",
      "The script will run until all papers are collected, which may take a long time.\n",
      "Intermediate results will be saved every 1000 papers.\n"
     ]
    },
    {
     "name": "stderr",
     "output_type": "stream",
     "text": [
      "Fetching Stylometry Papers: 1000it [00:11, 79.87it/s]"
     ]
    },
    {
     "name": "stdout",
     "output_type": "stream",
     "text": [
      "\n",
      "Saving intermediate results: 1000 papers so far...\n"
     ]
    },
    {
     "name": "stderr",
     "output_type": "stream",
     "text": [
      "Fetching Stylometry Papers: 2000it [00:43, 24.65it/s]"
     ]
    },
    {
     "name": "stdout",
     "output_type": "stream",
     "text": [
      "\n",
      "Saving intermediate results: 2000 papers so far...\n"
     ]
    },
    {
     "name": "stderr",
     "output_type": "stream",
     "text": [
      "Fetching Stylometry Papers: 3000it [00:57, 56.04it/s]"
     ]
    },
    {
     "name": "stdout",
     "output_type": "stream",
     "text": [
      "\n",
      "Saving intermediate results: 3000 papers so far...\n"
     ]
    },
    {
     "name": "stderr",
     "output_type": "stream",
     "text": [
      "Fetching Stylometry Papers: 4000it [01:11, 70.62it/s]"
     ]
    },
    {
     "name": "stdout",
     "output_type": "stream",
     "text": [
      "\n",
      "Saving intermediate results: 4000 papers so far...\n"
     ]
    },
    {
     "name": "stderr",
     "output_type": "stream",
     "text": [
      "Fetching Stylometry Papers: 5000it [01:25, 72.80it/s]"
     ]
    },
    {
     "name": "stdout",
     "output_type": "stream",
     "text": [
      "\n",
      "Saving intermediate results: 5000 papers so far...\n"
     ]
    },
    {
     "name": "stderr",
     "output_type": "stream",
     "text": [
      "Fetching Stylometry Papers: 6000it [01:39, 73.87it/s]"
     ]
    },
    {
     "name": "stdout",
     "output_type": "stream",
     "text": [
      "\n",
      "Saving intermediate results: 6000 papers so far...\n"
     ]
    },
    {
     "name": "stderr",
     "output_type": "stream",
     "text": [
      "Fetching Stylometry Papers: 7000it [01:53, 73.13it/s]"
     ]
    },
    {
     "name": "stdout",
     "output_type": "stream",
     "text": [
      "\n",
      "Saving intermediate results: 7000 papers so far...\n"
     ]
    },
    {
     "name": "stderr",
     "output_type": "stream",
     "text": [
      "Fetching Stylometry Papers: 8000it [02:07, 74.31it/s]"
     ]
    },
    {
     "name": "stdout",
     "output_type": "stream",
     "text": [
      "\n",
      "Saving intermediate results: 8000 papers so far...\n"
     ]
    },
    {
     "name": "stderr",
     "output_type": "stream",
     "text": [
      "Fetching Stylometry Papers: 9000it [02:21, 73.35it/s]"
     ]
    },
    {
     "name": "stdout",
     "output_type": "stream",
     "text": [
      "\n",
      "Saving intermediate results: 9000 papers so far...\n"
     ]
    },
    {
     "name": "stderr",
     "output_type": "stream",
     "text": [
      "Fetching Stylometry Papers: 10000it [02:36, 73.33it/s]"
     ]
    },
    {
     "name": "stdout",
     "output_type": "stream",
     "text": [
      "\n",
      "Saving intermediate results: 10000 papers so far...\n"
     ]
    },
    {
     "name": "stderr",
     "output_type": "stream",
     "text": [
      "Fetching Stylometry Papers: 11000it [02:50, 70.77it/s]"
     ]
    },
    {
     "name": "stdout",
     "output_type": "stream",
     "text": [
      "\n",
      "Saving intermediate results: 11000 papers so far...\n"
     ]
    },
    {
     "name": "stderr",
     "output_type": "stream",
     "text": [
      "Fetching Stylometry Papers: 12000it [03:04, 73.38it/s]"
     ]
    },
    {
     "name": "stdout",
     "output_type": "stream",
     "text": [
      "\n",
      "Saving intermediate results: 12000 papers so far...\n"
     ]
    },
    {
     "name": "stderr",
     "output_type": "stream",
     "text": [
      "Fetching Stylometry Papers: 13000it [03:19, 72.58it/s]"
     ]
    },
    {
     "name": "stdout",
     "output_type": "stream",
     "text": [
      "\n",
      "Saving intermediate results: 13000 papers so far...\n"
     ]
    },
    {
     "name": "stderr",
     "output_type": "stream",
     "text": [
      "Fetching Stylometry Papers: 14000it [03:33, 73.12it/s]"
     ]
    },
    {
     "name": "stdout",
     "output_type": "stream",
     "text": [
      "\n",
      "Saving intermediate results: 14000 papers so far...\n"
     ]
    },
    {
     "name": "stderr",
     "output_type": "stream",
     "text": [
      "Fetching Stylometry Papers: 15000it [03:48, 72.36it/s]"
     ]
    },
    {
     "name": "stdout",
     "output_type": "stream",
     "text": [
      "\n",
      "Saving intermediate results: 15000 papers so far...\n"
     ]
    },
    {
     "name": "stderr",
     "output_type": "stream",
     "text": [
      "Fetching Stylometry Papers: 16000it [04:03, 72.59it/s]"
     ]
    },
    {
     "name": "stdout",
     "output_type": "stream",
     "text": [
      "\n",
      "Saving intermediate results: 16000 papers so far...\n"
     ]
    },
    {
     "name": "stderr",
     "output_type": "stream",
     "text": [
      "Fetching Stylometry Papers: 17000it [04:18, 72.41it/s]"
     ]
    },
    {
     "name": "stdout",
     "output_type": "stream",
     "text": [
      "\n",
      "Saving intermediate results: 17000 papers so far...\n"
     ]
    },
    {
     "name": "stderr",
     "output_type": "stream",
     "text": [
      "Fetching Stylometry Papers: 18000it [04:33, 70.86it/s]"
     ]
    },
    {
     "name": "stdout",
     "output_type": "stream",
     "text": [
      "\n",
      "Saving intermediate results: 18000 papers so far...\n"
     ]
    },
    {
     "name": "stderr",
     "output_type": "stream",
     "text": [
      "Fetching Stylometry Papers: 19000it [04:48, 71.44it/s]"
     ]
    },
    {
     "name": "stdout",
     "output_type": "stream",
     "text": [
      "\n",
      "Saving intermediate results: 19000 papers so far...\n"
     ]
    },
    {
     "name": "stderr",
     "output_type": "stream",
     "text": [
      "Fetching Stylometry Papers: 20000it [05:03, 70.85it/s]"
     ]
    },
    {
     "name": "stdout",
     "output_type": "stream",
     "text": [
      "\n",
      "Saving intermediate results: 20000 papers so far...\n"
     ]
    },
    {
     "name": "stderr",
     "output_type": "stream",
     "text": [
      "Fetching Stylometry Papers: 21000it [05:19, 66.56it/s]"
     ]
    },
    {
     "name": "stdout",
     "output_type": "stream",
     "text": [
      "\n",
      "Saving intermediate results: 21000 papers so far...\n"
     ]
    },
    {
     "name": "stderr",
     "output_type": "stream",
     "text": [
      "Fetching Stylometry Papers: 22000it [05:35, 70.47it/s]"
     ]
    },
    {
     "name": "stdout",
     "output_type": "stream",
     "text": [
      "\n",
      "Saving intermediate results: 22000 papers so far...\n"
     ]
    },
    {
     "name": "stderr",
     "output_type": "stream",
     "text": [
      "Fetching Stylometry Papers: 23000it [05:50, 71.12it/s]"
     ]
    },
    {
     "name": "stdout",
     "output_type": "stream",
     "text": [
      "\n",
      "Saving intermediate results: 23000 papers so far...\n"
     ]
    },
    {
     "name": "stderr",
     "output_type": "stream",
     "text": [
      "Fetching Stylometry Papers: 24000it [06:05, 70.78it/s]"
     ]
    },
    {
     "name": "stdout",
     "output_type": "stream",
     "text": [
      "\n",
      "Saving intermediate results: 24000 papers so far...\n"
     ]
    },
    {
     "name": "stderr",
     "output_type": "stream",
     "text": [
      "Fetching Stylometry Papers: 25000it [06:21, 67.71it/s]"
     ]
    },
    {
     "name": "stdout",
     "output_type": "stream",
     "text": [
      "\n",
      "Saving intermediate results: 25000 papers so far...\n"
     ]
    },
    {
     "name": "stderr",
     "output_type": "stream",
     "text": [
      "Fetching Stylometry Papers: 26000it [06:37, 70.98it/s]"
     ]
    },
    {
     "name": "stdout",
     "output_type": "stream",
     "text": [
      "\n",
      "Saving intermediate results: 26000 papers so far...\n"
     ]
    },
    {
     "name": "stderr",
     "output_type": "stream",
     "text": [
      "Fetching Stylometry Papers: 27000it [06:56, 54.03it/s]"
     ]
    },
    {
     "name": "stdout",
     "output_type": "stream",
     "text": [
      "\n",
      "Saving intermediate results: 27000 papers so far...\n"
     ]
    },
    {
     "name": "stderr",
     "output_type": "stream",
     "text": [
      "Fetching Stylometry Papers: 28000it [07:22, 43.05it/s]"
     ]
    },
    {
     "name": "stdout",
     "output_type": "stream",
     "text": [
      "\n",
      "Saving intermediate results: 28000 papers so far...\n"
     ]
    },
    {
     "name": "stderr",
     "output_type": "stream",
     "text": [
      "Fetching Stylometry Papers: 29000it [07:43, 49.40it/s]"
     ]
    },
    {
     "name": "stdout",
     "output_type": "stream",
     "text": [
      "\n",
      "Saving intermediate results: 29000 papers so far...\n"
     ]
    },
    {
     "name": "stderr",
     "output_type": "stream",
     "text": [
      "Fetching Stylometry Papers: 30000it [08:04, 51.21it/s]"
     ]
    },
    {
     "name": "stdout",
     "output_type": "stream",
     "text": [
      "\n",
      "Saving intermediate results: 30000 papers so far...\n"
     ]
    },
    {
     "name": "stderr",
     "output_type": "stream",
     "text": [
      "Fetching Stylometry Papers: 31000it [08:24, 53.66it/s]"
     ]
    },
    {
     "name": "stdout",
     "output_type": "stream",
     "text": [
      "\n",
      "Saving intermediate results: 31000 papers so far...\n"
     ]
    },
    {
     "name": "stderr",
     "output_type": "stream",
     "text": [
      "Fetching Stylometry Papers: 32000it [08:48, 48.36it/s]"
     ]
    },
    {
     "name": "stdout",
     "output_type": "stream",
     "text": [
      "\n",
      "Saving intermediate results: 32000 papers so far...\n"
     ]
    },
    {
     "name": "stderr",
     "output_type": "stream",
     "text": [
      "Fetching Stylometry Papers: 33000it [09:09, 50.64it/s]"
     ]
    },
    {
     "name": "stdout",
     "output_type": "stream",
     "text": [
      "\n",
      "Saving intermediate results: 33000 papers so far...\n"
     ]
    },
    {
     "name": "stderr",
     "output_type": "stream",
     "text": [
      "Fetching Stylometry Papers: 34000it [09:32, 49.46it/s]"
     ]
    },
    {
     "name": "stdout",
     "output_type": "stream",
     "text": [
      "\n",
      "Saving intermediate results: 34000 papers so far...\n"
     ]
    },
    {
     "name": "stderr",
     "output_type": "stream",
     "text": [
      "Fetching Stylometry Papers: 35000it [09:54, 48.98it/s]"
     ]
    },
    {
     "name": "stdout",
     "output_type": "stream",
     "text": [
      "\n",
      "Saving intermediate results: 35000 papers so far...\n"
     ]
    },
    {
     "name": "stderr",
     "output_type": "stream",
     "text": [
      "Fetching Stylometry Papers: 36000it [10:15, 51.56it/s]"
     ]
    },
    {
     "name": "stdout",
     "output_type": "stream",
     "text": [
      "\n",
      "Saving intermediate results: 36000 papers so far...\n"
     ]
    },
    {
     "name": "stderr",
     "output_type": "stream",
     "text": [
      "Fetching Stylometry Papers: 37000it [10:39, 48.89it/s]"
     ]
    },
    {
     "name": "stdout",
     "output_type": "stream",
     "text": [
      "\n",
      "Saving intermediate results: 37000 papers so far...\n"
     ]
    },
    {
     "name": "stderr",
     "output_type": "stream",
     "text": [
      "Fetching Stylometry Papers: 38000it [11:03, 45.22it/s]"
     ]
    },
    {
     "name": "stdout",
     "output_type": "stream",
     "text": [
      "\n",
      "Saving intermediate results: 38000 papers so far...\n"
     ]
    },
    {
     "name": "stderr",
     "output_type": "stream",
     "text": [
      "Fetching Stylometry Papers: 39000it [11:26, 45.74it/s]"
     ]
    },
    {
     "name": "stdout",
     "output_type": "stream",
     "text": [
      "\n",
      "Saving intermediate results: 39000 papers so far...\n"
     ]
    },
    {
     "name": "stderr",
     "output_type": "stream",
     "text": [
      "Fetching Stylometry Papers: 40000it [11:48, 51.12it/s]"
     ]
    },
    {
     "name": "stdout",
     "output_type": "stream",
     "text": [
      "\n",
      "Saving intermediate results: 40000 papers so far...\n"
     ]
    },
    {
     "name": "stderr",
     "output_type": "stream",
     "text": [
      "Fetching Stylometry Papers: 41000it [12:11, 47.63it/s]"
     ]
    },
    {
     "name": "stdout",
     "output_type": "stream",
     "text": [
      "\n",
      "Saving intermediate results: 41000 papers so far...\n"
     ]
    },
    {
     "name": "stderr",
     "output_type": "stream",
     "text": [
      "Fetching Stylometry Papers: 42000it [12:33, 49.61it/s]"
     ]
    },
    {
     "name": "stdout",
     "output_type": "stream",
     "text": [
      "\n",
      "Saving intermediate results: 42000 papers so far...\n"
     ]
    },
    {
     "name": "stderr",
     "output_type": "stream",
     "text": [
      "Fetching Stylometry Papers: 43000it [12:57, 48.08it/s]"
     ]
    },
    {
     "name": "stdout",
     "output_type": "stream",
     "text": [
      "\n",
      "Saving intermediate results: 43000 papers so far...\n"
     ]
    },
    {
     "name": "stderr",
     "output_type": "stream",
     "text": [
      "Fetching Stylometry Papers: 44000it [13:22, 45.34it/s]"
     ]
    },
    {
     "name": "stdout",
     "output_type": "stream",
     "text": [
      "\n",
      "Saving intermediate results: 44000 papers so far...\n"
     ]
    },
    {
     "name": "stderr",
     "output_type": "stream",
     "text": [
      "Fetching Stylometry Papers: 45000it [13:45, 47.91it/s]"
     ]
    },
    {
     "name": "stdout",
     "output_type": "stream",
     "text": [
      "\n",
      "Saving intermediate results: 45000 papers so far...\n"
     ]
    },
    {
     "name": "stderr",
     "output_type": "stream",
     "text": [
      "Fetching Stylometry Papers: 46000it [14:08, 48.59it/s]"
     ]
    },
    {
     "name": "stdout",
     "output_type": "stream",
     "text": [
      "\n",
      "Saving intermediate results: 46000 papers so far...\n"
     ]
    },
    {
     "name": "stderr",
     "output_type": "stream",
     "text": [
      "Fetching Stylometry Papers: 47000it [14:31, 49.49it/s]"
     ]
    },
    {
     "name": "stdout",
     "output_type": "stream",
     "text": [
      "\n",
      "Saving intermediate results: 47000 papers so far...\n"
     ]
    },
    {
     "name": "stderr",
     "output_type": "stream",
     "text": [
      "Fetching Stylometry Papers: 48000it [14:55, 49.35it/s]"
     ]
    },
    {
     "name": "stdout",
     "output_type": "stream",
     "text": [
      "\n",
      "Saving intermediate results: 48000 papers so far...\n"
     ]
    },
    {
     "name": "stderr",
     "output_type": "stream",
     "text": [
      "Fetching Stylometry Papers: 49000it [15:19, 46.43it/s]"
     ]
    },
    {
     "name": "stdout",
     "output_type": "stream",
     "text": [
      "\n",
      "Saving intermediate results: 49000 papers so far...\n"
     ]
    },
    {
     "name": "stderr",
     "output_type": "stream",
     "text": [
      "Fetching Stylometry Papers: 50000it [15:42, 48.30it/s]"
     ]
    },
    {
     "name": "stdout",
     "output_type": "stream",
     "text": [
      "\n",
      "Saving intermediate results: 50000 papers so far...\n"
     ]
    },
    {
     "name": "stderr",
     "output_type": "stream",
     "text": [
      "Fetching Stylometry Papers: 51000it [16:06, 47.35it/s]"
     ]
    },
    {
     "name": "stdout",
     "output_type": "stream",
     "text": [
      "\n",
      "Saving intermediate results: 51000 papers so far...\n"
     ]
    },
    {
     "name": "stderr",
     "output_type": "stream",
     "text": [
      "Fetching Stylometry Papers: 52000it [16:29, 49.58it/s]"
     ]
    },
    {
     "name": "stdout",
     "output_type": "stream",
     "text": [
      "\n",
      "Saving intermediate results: 52000 papers so far...\n"
     ]
    },
    {
     "name": "stderr",
     "output_type": "stream",
     "text": [
      "Fetching Stylometry Papers: 53000it [16:53, 48.13it/s]"
     ]
    },
    {
     "name": "stdout",
     "output_type": "stream",
     "text": [
      "\n",
      "Saving intermediate results: 53000 papers so far...\n"
     ]
    },
    {
     "name": "stderr",
     "output_type": "stream",
     "text": [
      "Fetching Stylometry Papers: 54000it [17:20, 42.13it/s]"
     ]
    },
    {
     "name": "stdout",
     "output_type": "stream",
     "text": [
      "\n",
      "Saving intermediate results: 54000 papers so far...\n"
     ]
    },
    {
     "name": "stderr",
     "output_type": "stream",
     "text": [
      "Fetching Stylometry Papers: 55000it [17:45, 46.23it/s]"
     ]
    },
    {
     "name": "stdout",
     "output_type": "stream",
     "text": [
      "\n",
      "Saving intermediate results: 55000 papers so far...\n"
     ]
    },
    {
     "name": "stderr",
     "output_type": "stream",
     "text": [
      "Fetching Stylometry Papers: 56000it [18:08, 47.94it/s]"
     ]
    },
    {
     "name": "stdout",
     "output_type": "stream",
     "text": [
      "\n",
      "Saving intermediate results: 56000 papers so far...\n"
     ]
    },
    {
     "name": "stderr",
     "output_type": "stream",
     "text": [
      "Fetching Stylometry Papers: 57000it [18:32, 48.36it/s]"
     ]
    },
    {
     "name": "stdout",
     "output_type": "stream",
     "text": [
      "\n",
      "Saving intermediate results: 57000 papers so far...\n"
     ]
    },
    {
     "name": "stderr",
     "output_type": "stream",
     "text": [
      "Fetching Stylometry Papers: 58000it [18:58, 42.61it/s]"
     ]
    },
    {
     "name": "stdout",
     "output_type": "stream",
     "text": [
      "\n",
      "Saving intermediate results: 58000 papers so far...\n"
     ]
    },
    {
     "name": "stderr",
     "output_type": "stream",
     "text": [
      "Fetching Stylometry Papers: 59000it [19:22, 48.10it/s]"
     ]
    },
    {
     "name": "stdout",
     "output_type": "stream",
     "text": [
      "\n",
      "Saving intermediate results: 59000 papers so far...\n"
     ]
    },
    {
     "name": "stderr",
     "output_type": "stream",
     "text": [
      "Fetching Stylometry Papers: 60000it [19:47, 45.00it/s]"
     ]
    },
    {
     "name": "stdout",
     "output_type": "stream",
     "text": [
      "\n",
      "Saving intermediate results: 60000 papers so far...\n"
     ]
    },
    {
     "name": "stderr",
     "output_type": "stream",
     "text": [
      "Fetching Stylometry Papers: 61000it [20:10, 48.26it/s]"
     ]
    },
    {
     "name": "stdout",
     "output_type": "stream",
     "text": [
      "\n",
      "Saving intermediate results: 61000 papers so far...\n"
     ]
    },
    {
     "name": "stderr",
     "output_type": "stream",
     "text": [
      "Fetching Stylometry Papers: 62000it [20:34, 47.74it/s]"
     ]
    },
    {
     "name": "stdout",
     "output_type": "stream",
     "text": [
      "\n",
      "Saving intermediate results: 62000 papers so far...\n"
     ]
    },
    {
     "name": "stderr",
     "output_type": "stream",
     "text": [
      "Fetching Stylometry Papers: 63000it [20:59, 47.86it/s]"
     ]
    },
    {
     "name": "stdout",
     "output_type": "stream",
     "text": [
      "\n",
      "Saving intermediate results: 63000 papers so far...\n"
     ]
    },
    {
     "name": "stderr",
     "output_type": "stream",
     "text": [
      "Fetching Stylometry Papers: 64000it [21:25, 45.29it/s]"
     ]
    },
    {
     "name": "stdout",
     "output_type": "stream",
     "text": [
      "\n",
      "Saving intermediate results: 64000 papers so far...\n"
     ]
    },
    {
     "name": "stderr",
     "output_type": "stream",
     "text": [
      "Fetching Stylometry Papers: 65000it [22:33, 15.31it/s]"
     ]
    },
    {
     "name": "stdout",
     "output_type": "stream",
     "text": [
      "\n",
      "Saving intermediate results: 65000 papers so far...\n"
     ]
    },
    {
     "name": "stderr",
     "output_type": "stream",
     "text": [
      "Fetching Stylometry Papers: 66000it [22:58, 35.09it/s]"
     ]
    },
    {
     "name": "stdout",
     "output_type": "stream",
     "text": [
      "\n",
      "Saving intermediate results: 66000 papers so far...\n"
     ]
    },
    {
     "name": "stderr",
     "output_type": "stream",
     "text": [
      "Fetching Stylometry Papers: 67000it [23:21, 46.06it/s]"
     ]
    },
    {
     "name": "stdout",
     "output_type": "stream",
     "text": [
      "\n",
      "Saving intermediate results: 67000 papers so far...\n"
     ]
    },
    {
     "name": "stderr",
     "output_type": "stream",
     "text": [
      "Fetching Stylometry Papers: 68000it [23:45, 48.37it/s]"
     ]
    },
    {
     "name": "stdout",
     "output_type": "stream",
     "text": [
      "\n",
      "Saving intermediate results: 68000 papers so far...\n"
     ]
    },
    {
     "name": "stderr",
     "output_type": "stream",
     "text": [
      "Fetching Stylometry Papers: 69000it [24:11, 46.61it/s]"
     ]
    },
    {
     "name": "stdout",
     "output_type": "stream",
     "text": [
      "\n",
      "Saving intermediate results: 69000 papers so far...\n"
     ]
    },
    {
     "name": "stderr",
     "output_type": "stream",
     "text": [
      "Fetching Stylometry Papers: 70000it [24:37, 45.85it/s]"
     ]
    },
    {
     "name": "stdout",
     "output_type": "stream",
     "text": [
      "\n",
      "Saving intermediate results: 70000 papers so far...\n"
     ]
    },
    {
     "name": "stderr",
     "output_type": "stream",
     "text": [
      "Fetching Stylometry Papers: 71000it [25:02, 46.44it/s]"
     ]
    },
    {
     "name": "stdout",
     "output_type": "stream",
     "text": [
      "\n",
      "Saving intermediate results: 71000 papers so far...\n"
     ]
    },
    {
     "name": "stderr",
     "output_type": "stream",
     "text": [
      "Fetching Stylometry Papers: 72000it [25:26, 47.81it/s]"
     ]
    },
    {
     "name": "stdout",
     "output_type": "stream",
     "text": [
      "\n",
      "Saving intermediate results: 72000 papers so far...\n"
     ]
    },
    {
     "name": "stderr",
     "output_type": "stream",
     "text": [
      "Fetching Stylometry Papers: 73000it [25:51, 48.48it/s]"
     ]
    },
    {
     "name": "stdout",
     "output_type": "stream",
     "text": [
      "\n",
      "Saving intermediate results: 73000 papers so far...\n"
     ]
    },
    {
     "name": "stderr",
     "output_type": "stream",
     "text": [
      "Fetching Stylometry Papers: 74000it [26:16, 45.49it/s]"
     ]
    },
    {
     "name": "stdout",
     "output_type": "stream",
     "text": [
      "\n",
      "Saving intermediate results: 74000 papers so far...\n"
     ]
    },
    {
     "name": "stderr",
     "output_type": "stream",
     "text": [
      "Fetching Stylometry Papers: 75000it [26:48, 41.47it/s]"
     ]
    },
    {
     "name": "stdout",
     "output_type": "stream",
     "text": [
      "\n",
      "Saving intermediate results: 75000 papers so far...\n"
     ]
    },
    {
     "name": "stderr",
     "output_type": "stream",
     "text": [
      "Fetching Stylometry Papers: 76000it [27:13, 44.94it/s]"
     ]
    },
    {
     "name": "stdout",
     "output_type": "stream",
     "text": [
      "\n",
      "Saving intermediate results: 76000 papers so far...\n"
     ]
    },
    {
     "name": "stderr",
     "output_type": "stream",
     "text": [
      "Fetching Stylometry Papers: 77000it [27:40, 44.26it/s]"
     ]
    },
    {
     "name": "stdout",
     "output_type": "stream",
     "text": [
      "\n",
      "Saving intermediate results: 77000 papers so far...\n"
     ]
    },
    {
     "name": "stderr",
     "output_type": "stream",
     "text": [
      "Fetching Stylometry Papers: 78000it [28:04, 47.96it/s]"
     ]
    },
    {
     "name": "stdout",
     "output_type": "stream",
     "text": [
      "\n",
      "Saving intermediate results: 78000 papers so far...\n"
     ]
    },
    {
     "name": "stderr",
     "output_type": "stream",
     "text": [
      "Fetching Stylometry Papers: 79000it [28:31, 45.26it/s]"
     ]
    },
    {
     "name": "stdout",
     "output_type": "stream",
     "text": [
      "\n",
      "Saving intermediate results: 79000 papers so far...\n"
     ]
    },
    {
     "name": "stderr",
     "output_type": "stream",
     "text": [
      "Fetching Stylometry Papers: 80000it [28:58, 45.94it/s]"
     ]
    },
    {
     "name": "stdout",
     "output_type": "stream",
     "text": [
      "\n",
      "Saving intermediate results: 80000 papers so far...\n"
     ]
    },
    {
     "name": "stderr",
     "output_type": "stream",
     "text": [
      "Fetching Stylometry Papers: 81000it [29:30, 40.76it/s]"
     ]
    },
    {
     "name": "stdout",
     "output_type": "stream",
     "text": [
      "\n",
      "Saving intermediate results: 81000 papers so far...\n"
     ]
    },
    {
     "name": "stderr",
     "output_type": "stream",
     "text": [
      "Fetching Stylometry Papers: 82000it [29:58, 44.45it/s]"
     ]
    },
    {
     "name": "stdout",
     "output_type": "stream",
     "text": [
      "\n",
      "Saving intermediate results: 82000 papers so far...\n"
     ]
    },
    {
     "name": "stderr",
     "output_type": "stream",
     "text": [
      "Fetching Stylometry Papers: 83000it [30:24, 46.81it/s]"
     ]
    },
    {
     "name": "stdout",
     "output_type": "stream",
     "text": [
      "\n",
      "Saving intermediate results: 83000 papers so far...\n"
     ]
    },
    {
     "name": "stderr",
     "output_type": "stream",
     "text": [
      "Fetching Stylometry Papers: 84000it [30:50, 45.94it/s]"
     ]
    },
    {
     "name": "stdout",
     "output_type": "stream",
     "text": [
      "\n",
      "Saving intermediate results: 84000 papers so far...\n"
     ]
    },
    {
     "name": "stderr",
     "output_type": "stream",
     "text": [
      "Fetching Stylometry Papers: 85000it [31:16, 45.99it/s]"
     ]
    },
    {
     "name": "stdout",
     "output_type": "stream",
     "text": [
      "\n",
      "Saving intermediate results: 85000 papers so far...\n"
     ]
    },
    {
     "name": "stderr",
     "output_type": "stream",
     "text": [
      "Fetching Stylometry Papers: 86000it [31:42, 46.95it/s]"
     ]
    },
    {
     "name": "stdout",
     "output_type": "stream",
     "text": [
      "\n",
      "Saving intermediate results: 86000 papers so far...\n"
     ]
    },
    {
     "name": "stderr",
     "output_type": "stream",
     "text": [
      "Fetching Stylometry Papers: 87000it [32:12, 42.00it/s]"
     ]
    },
    {
     "name": "stdout",
     "output_type": "stream",
     "text": [
      "\n",
      "Saving intermediate results: 87000 papers so far...\n"
     ]
    },
    {
     "name": "stderr",
     "output_type": "stream",
     "text": [
      "Fetching Stylometry Papers: 88000it [32:40, 41.83it/s]"
     ]
    },
    {
     "name": "stdout",
     "output_type": "stream",
     "text": [
      "\n",
      "Saving intermediate results: 88000 papers so far...\n"
     ]
    },
    {
     "name": "stderr",
     "output_type": "stream",
     "text": [
      "Fetching Stylometry Papers: 89000it [33:08, 43.93it/s]"
     ]
    },
    {
     "name": "stdout",
     "output_type": "stream",
     "text": [
      "\n",
      "Saving intermediate results: 89000 papers so far...\n"
     ]
    },
    {
     "name": "stderr",
     "output_type": "stream",
     "text": [
      "Fetching Stylometry Papers: 90000it [33:35, 44.72it/s]"
     ]
    },
    {
     "name": "stdout",
     "output_type": "stream",
     "text": [
      "\n",
      "Saving intermediate results: 90000 papers so far...\n"
     ]
    },
    {
     "name": "stderr",
     "output_type": "stream",
     "text": [
      "Fetching Stylometry Papers: 91000it [34:05, 43.22it/s]"
     ]
    },
    {
     "name": "stdout",
     "output_type": "stream",
     "text": [
      "\n",
      "Saving intermediate results: 91000 papers so far...\n"
     ]
    },
    {
     "name": "stderr",
     "output_type": "stream",
     "text": [
      "Fetching Stylometry Papers: 92000it [34:32, 44.66it/s]"
     ]
    },
    {
     "name": "stdout",
     "output_type": "stream",
     "text": [
      "\n",
      "Saving intermediate results: 92000 papers so far...\n"
     ]
    },
    {
     "name": "stderr",
     "output_type": "stream",
     "text": [
      "Fetching Stylometry Papers: 93000it [35:03, 41.38it/s]"
     ]
    },
    {
     "name": "stdout",
     "output_type": "stream",
     "text": [
      "\n",
      "Saving intermediate results: 93000 papers so far...\n"
     ]
    },
    {
     "name": "stderr",
     "output_type": "stream",
     "text": [
      "Fetching Stylometry Papers: 94000it [35:31, 42.94it/s]"
     ]
    },
    {
     "name": "stdout",
     "output_type": "stream",
     "text": [
      "\n",
      "Saving intermediate results: 94000 papers so far...\n"
     ]
    },
    {
     "name": "stderr",
     "output_type": "stream",
     "text": [
      "Fetching Stylometry Papers: 95000it [35:58, 44.70it/s]"
     ]
    },
    {
     "name": "stdout",
     "output_type": "stream",
     "text": [
      "\n",
      "Saving intermediate results: 95000 papers so far...\n"
     ]
    },
    {
     "name": "stderr",
     "output_type": "stream",
     "text": [
      "Fetching Stylometry Papers: 96000it [36:26, 44.27it/s]"
     ]
    },
    {
     "name": "stdout",
     "output_type": "stream",
     "text": [
      "\n",
      "Saving intermediate results: 96000 papers so far...\n"
     ]
    },
    {
     "name": "stderr",
     "output_type": "stream",
     "text": [
      "Fetching Stylometry Papers: 97000it [36:53, 47.21it/s]"
     ]
    },
    {
     "name": "stdout",
     "output_type": "stream",
     "text": [
      "\n",
      "Saving intermediate results: 97000 papers so far...\n"
     ]
    },
    {
     "name": "stderr",
     "output_type": "stream",
     "text": [
      "Fetching Stylometry Papers: 98000it [37:20, 45.79it/s]"
     ]
    },
    {
     "name": "stdout",
     "output_type": "stream",
     "text": [
      "\n",
      "Saving intermediate results: 98000 papers so far...\n"
     ]
    },
    {
     "name": "stderr",
     "output_type": "stream",
     "text": [
      "Fetching Stylometry Papers: 99000it [37:50, 41.97it/s]"
     ]
    },
    {
     "name": "stdout",
     "output_type": "stream",
     "text": [
      "\n",
      "Saving intermediate results: 99000 papers so far...\n"
     ]
    },
    {
     "name": "stderr",
     "output_type": "stream",
     "text": [
      "Fetching Stylometry Papers: 100000it [38:18, 45.33it/s]"
     ]
    },
    {
     "name": "stdout",
     "output_type": "stream",
     "text": [
      "\n",
      "Saving intermediate results: 100000 papers so far...\n"
     ]
    },
    {
     "name": "stderr",
     "output_type": "stream",
     "text": [
      "Fetching Stylometry Papers: 101000it [38:48, 42.34it/s]"
     ]
    },
    {
     "name": "stdout",
     "output_type": "stream",
     "text": [
      "\n",
      "Saving intermediate results: 101000 papers so far...\n"
     ]
    },
    {
     "name": "stderr",
     "output_type": "stream",
     "text": [
      "Fetching Stylometry Papers: 102000it [39:15, 45.33it/s]"
     ]
    },
    {
     "name": "stdout",
     "output_type": "stream",
     "text": [
      "\n",
      "Saving intermediate results: 102000 papers so far...\n"
     ]
    },
    {
     "name": "stderr",
     "output_type": "stream",
     "text": [
      "Fetching Stylometry Papers: 103000it [39:43, 43.52it/s]"
     ]
    },
    {
     "name": "stdout",
     "output_type": "stream",
     "text": [
      "\n",
      "Saving intermediate results: 103000 papers so far...\n"
     ]
    },
    {
     "name": "stderr",
     "output_type": "stream",
     "text": [
      "Fetching Stylometry Papers: 104000it [40:12, 44.58it/s]"
     ]
    },
    {
     "name": "stdout",
     "output_type": "stream",
     "text": [
      "\n",
      "Saving intermediate results: 104000 papers so far...\n"
     ]
    },
    {
     "name": "stderr",
     "output_type": "stream",
     "text": [
      "Fetching Stylometry Papers: 105000it [40:46, 37.47it/s]"
     ]
    },
    {
     "name": "stdout",
     "output_type": "stream",
     "text": [
      "\n",
      "Saving intermediate results: 105000 papers so far...\n"
     ]
    },
    {
     "name": "stderr",
     "output_type": "stream",
     "text": [
      "Fetching Stylometry Papers: 106000it [41:20, 37.50it/s]"
     ]
    },
    {
     "name": "stdout",
     "output_type": "stream",
     "text": [
      "\n",
      "Saving intermediate results: 106000 papers so far...\n"
     ]
    },
    {
     "name": "stderr",
     "output_type": "stream",
     "text": [
      "Fetching Stylometry Papers: 107000it [41:53, 39.79it/s]"
     ]
    },
    {
     "name": "stdout",
     "output_type": "stream",
     "text": [
      "\n",
      "Saving intermediate results: 107000 papers so far...\n"
     ]
    },
    {
     "name": "stderr",
     "output_type": "stream",
     "text": [
      "Fetching Stylometry Papers: 108000it [42:22, 41.82it/s]"
     ]
    },
    {
     "name": "stdout",
     "output_type": "stream",
     "text": [
      "\n",
      "Saving intermediate results: 108000 papers so far...\n"
     ]
    },
    {
     "name": "stderr",
     "output_type": "stream",
     "text": [
      "Fetching Stylometry Papers: 109000it [42:50, 43.83it/s]"
     ]
    },
    {
     "name": "stdout",
     "output_type": "stream",
     "text": [
      "\n",
      "Saving intermediate results: 109000 papers so far...\n"
     ]
    },
    {
     "name": "stderr",
     "output_type": "stream",
     "text": [
      "Fetching Stylometry Papers: 110000it [43:18, 45.29it/s]"
     ]
    },
    {
     "name": "stdout",
     "output_type": "stream",
     "text": [
      "\n",
      "Saving intermediate results: 110000 papers so far...\n"
     ]
    },
    {
     "name": "stderr",
     "output_type": "stream",
     "text": [
      "Fetching Stylometry Papers: 111000it [43:46, 45.31it/s]"
     ]
    },
    {
     "name": "stdout",
     "output_type": "stream",
     "text": [
      "\n",
      "Saving intermediate results: 111000 papers so far...\n"
     ]
    },
    {
     "name": "stderr",
     "output_type": "stream",
     "text": [
      "Fetching Stylometry Papers: 112000it [44:19, 40.17it/s]"
     ]
    },
    {
     "name": "stdout",
     "output_type": "stream",
     "text": [
      "\n",
      "Saving intermediate results: 112000 papers so far...\n"
     ]
    },
    {
     "name": "stderr",
     "output_type": "stream",
     "text": [
      "Fetching Stylometry Papers: 113000it [44:47, 44.46it/s]"
     ]
    },
    {
     "name": "stdout",
     "output_type": "stream",
     "text": [
      "\n",
      "Saving intermediate results: 113000 papers so far...\n"
     ]
    },
    {
     "name": "stderr",
     "output_type": "stream",
     "text": [
      "Fetching Stylometry Papers: 114000it [45:15, 45.52it/s]"
     ]
    },
    {
     "name": "stdout",
     "output_type": "stream",
     "text": [
      "\n",
      "Saving intermediate results: 114000 papers so far...\n"
     ]
    },
    {
     "name": "stderr",
     "output_type": "stream",
     "text": [
      "Fetching Stylometry Papers: 115000it [45:42, 47.72it/s]"
     ]
    },
    {
     "name": "stdout",
     "output_type": "stream",
     "text": [
      "\n",
      "Saving intermediate results: 115000 papers so far...\n"
     ]
    },
    {
     "name": "stderr",
     "output_type": "stream",
     "text": [
      "Fetching Stylometry Papers: 116000it [46:18, 35.72it/s]"
     ]
    },
    {
     "name": "stdout",
     "output_type": "stream",
     "text": [
      "\n",
      "Saving intermediate results: 116000 papers so far...\n"
     ]
    },
    {
     "name": "stderr",
     "output_type": "stream",
     "text": [
      "Fetching Stylometry Papers: 117000it [46:49, 40.32it/s]"
     ]
    },
    {
     "name": "stdout",
     "output_type": "stream",
     "text": [
      "\n",
      "Saving intermediate results: 117000 papers so far...\n"
     ]
    },
    {
     "name": "stderr",
     "output_type": "stream",
     "text": [
      "Fetching Stylometry Papers: 118000it [47:18, 43.72it/s]"
     ]
    },
    {
     "name": "stdout",
     "output_type": "stream",
     "text": [
      "\n",
      "Saving intermediate results: 118000 papers so far...\n"
     ]
    },
    {
     "name": "stderr",
     "output_type": "stream",
     "text": [
      "Fetching Stylometry Papers: 119000it [47:49, 45.22it/s]"
     ]
    },
    {
     "name": "stdout",
     "output_type": "stream",
     "text": [
      "\n",
      "Saving intermediate results: 119000 papers so far...\n"
     ]
    },
    {
     "name": "stderr",
     "output_type": "stream",
     "text": [
      "Fetching Stylometry Papers: 120000it [48:18, 43.92it/s]"
     ]
    },
    {
     "name": "stdout",
     "output_type": "stream",
     "text": [
      "\n",
      "Saving intermediate results: 120000 papers so far...\n"
     ]
    },
    {
     "name": "stderr",
     "output_type": "stream",
     "text": [
      "Fetching Stylometry Papers: 121000it [48:47, 45.23it/s]"
     ]
    },
    {
     "name": "stdout",
     "output_type": "stream",
     "text": [
      "\n",
      "Saving intermediate results: 121000 papers so far...\n"
     ]
    },
    {
     "name": "stderr",
     "output_type": "stream",
     "text": [
      "Fetching Stylometry Papers: 122000it [49:17, 44.44it/s]"
     ]
    },
    {
     "name": "stdout",
     "output_type": "stream",
     "text": [
      "\n",
      "Saving intermediate results: 122000 papers so far...\n"
     ]
    },
    {
     "name": "stderr",
     "output_type": "stream",
     "text": [
      "Fetching Stylometry Papers: 123000it [49:45, 45.89it/s]"
     ]
    },
    {
     "name": "stdout",
     "output_type": "stream",
     "text": [
      "\n",
      "Saving intermediate results: 123000 papers so far...\n"
     ]
    },
    {
     "name": "stderr",
     "output_type": "stream",
     "text": [
      "Fetching Stylometry Papers: 124000it [50:17, 40.00it/s]"
     ]
    },
    {
     "name": "stdout",
     "output_type": "stream",
     "text": [
      "\n",
      "Saving intermediate results: 124000 papers so far...\n"
     ]
    },
    {
     "name": "stderr",
     "output_type": "stream",
     "text": [
      "Fetching Stylometry Papers: 125000it [50:44, 45.31it/s]"
     ]
    },
    {
     "name": "stdout",
     "output_type": "stream",
     "text": [
      "\n",
      "Saving intermediate results: 125000 papers so far...\n"
     ]
    },
    {
     "name": "stderr",
     "output_type": "stream",
     "text": [
      "Fetching Stylometry Papers: 126000it [51:15, 44.40it/s]"
     ]
    },
    {
     "name": "stdout",
     "output_type": "stream",
     "text": [
      "\n",
      "Saving intermediate results: 126000 papers so far...\n"
     ]
    },
    {
     "name": "stderr",
     "output_type": "stream",
     "text": [
      "Fetching Stylometry Papers: 127000it [51:43, 45.63it/s]"
     ]
    },
    {
     "name": "stdout",
     "output_type": "stream",
     "text": [
      "\n",
      "Saving intermediate results: 127000 papers so far...\n"
     ]
    },
    {
     "name": "stderr",
     "output_type": "stream",
     "text": [
      "Fetching Stylometry Papers: 128000it [52:12, 44.93it/s]"
     ]
    },
    {
     "name": "stdout",
     "output_type": "stream",
     "text": [
      "\n",
      "Saving intermediate results: 128000 papers so far...\n"
     ]
    },
    {
     "name": "stderr",
     "output_type": "stream",
     "text": [
      "Fetching Stylometry Papers: 129000it [52:46, 42.64it/s]"
     ]
    },
    {
     "name": "stdout",
     "output_type": "stream",
     "text": [
      "\n",
      "Saving intermediate results: 129000 papers so far...\n"
     ]
    },
    {
     "name": "stderr",
     "output_type": "stream",
     "text": [
      "Fetching Stylometry Papers: 130000it [53:16, 43.82it/s]"
     ]
    },
    {
     "name": "stdout",
     "output_type": "stream",
     "text": [
      "\n",
      "Saving intermediate results: 130000 papers so far...\n"
     ]
    },
    {
     "name": "stderr",
     "output_type": "stream",
     "text": [
      "Fetching Stylometry Papers: 131000it [53:44, 45.64it/s]"
     ]
    },
    {
     "name": "stdout",
     "output_type": "stream",
     "text": [
      "\n",
      "Saving intermediate results: 131000 papers so far...\n"
     ]
    },
    {
     "name": "stderr",
     "output_type": "stream",
     "text": [
      "Fetching Stylometry Papers: 132000it [54:13, 45.04it/s]"
     ]
    },
    {
     "name": "stdout",
     "output_type": "stream",
     "text": [
      "\n",
      "Saving intermediate results: 132000 papers so far...\n"
     ]
    },
    {
     "name": "stderr",
     "output_type": "stream",
     "text": [
      "Fetching Stylometry Papers: 133000it [54:48, 40.47it/s]"
     ]
    },
    {
     "name": "stdout",
     "output_type": "stream",
     "text": [
      "\n",
      "Saving intermediate results: 133000 papers so far...\n"
     ]
    },
    {
     "name": "stderr",
     "output_type": "stream",
     "text": [
      "Fetching Stylometry Papers: 134000it [55:17, 43.69it/s]"
     ]
    },
    {
     "name": "stdout",
     "output_type": "stream",
     "text": [
      "\n",
      "Saving intermediate results: 134000 papers so far...\n"
     ]
    },
    {
     "name": "stderr",
     "output_type": "stream",
     "text": [
      "Fetching Stylometry Papers: 135000it [55:48, 43.07it/s]"
     ]
    },
    {
     "name": "stdout",
     "output_type": "stream",
     "text": [
      "\n",
      "Saving intermediate results: 135000 papers so far...\n"
     ]
    },
    {
     "name": "stderr",
     "output_type": "stream",
     "text": [
      "Fetching Stylometry Papers: 136000it [56:19, 42.21it/s]"
     ]
    },
    {
     "name": "stdout",
     "output_type": "stream",
     "text": [
      "\n",
      "Saving intermediate results: 136000 papers so far...\n"
     ]
    },
    {
     "name": "stderr",
     "output_type": "stream",
     "text": [
      "Fetching Stylometry Papers: 137000it [56:50, 39.92it/s]"
     ]
    },
    {
     "name": "stdout",
     "output_type": "stream",
     "text": [
      "\n",
      "Saving intermediate results: 137000 papers so far...\n"
     ]
    },
    {
     "name": "stderr",
     "output_type": "stream",
     "text": [
      "Fetching Stylometry Papers: 138000it [57:22, 39.09it/s]"
     ]
    },
    {
     "name": "stdout",
     "output_type": "stream",
     "text": [
      "\n",
      "Saving intermediate results: 138000 papers so far...\n"
     ]
    },
    {
     "name": "stderr",
     "output_type": "stream",
     "text": [
      "Fetching Stylometry Papers: 139000it [57:54, 41.37it/s]"
     ]
    },
    {
     "name": "stdout",
     "output_type": "stream",
     "text": [
      "\n",
      "Saving intermediate results: 139000 papers so far...\n"
     ]
    },
    {
     "name": "stderr",
     "output_type": "stream",
     "text": [
      "Fetching Stylometry Papers: 140000it [58:26, 42.39it/s]"
     ]
    },
    {
     "name": "stdout",
     "output_type": "stream",
     "text": [
      "\n",
      "Saving intermediate results: 140000 papers so far...\n"
     ]
    },
    {
     "name": "stderr",
     "output_type": "stream",
     "text": [
      "Fetching Stylometry Papers: 141000it [58:57, 41.54it/s]"
     ]
    },
    {
     "name": "stdout",
     "output_type": "stream",
     "text": [
      "\n",
      "Saving intermediate results: 141000 papers so far...\n"
     ]
    },
    {
     "name": "stderr",
     "output_type": "stream",
     "text": [
      "Fetching Stylometry Papers: 142000it [59:28, 42.32it/s]"
     ]
    },
    {
     "name": "stdout",
     "output_type": "stream",
     "text": [
      "\n",
      "Saving intermediate results: 142000 papers so far...\n"
     ]
    },
    {
     "name": "stderr",
     "output_type": "stream",
     "text": [
      "Fetching Stylometry Papers: 143000it [1:00:01, 40.44it/s]"
     ]
    },
    {
     "name": "stdout",
     "output_type": "stream",
     "text": [
      "\n",
      "Saving intermediate results: 143000 papers so far...\n"
     ]
    },
    {
     "name": "stderr",
     "output_type": "stream",
     "text": [
      "Fetching Stylometry Papers: 144000it [1:00:31, 43.04it/s]"
     ]
    },
    {
     "name": "stdout",
     "output_type": "stream",
     "text": [
      "\n",
      "Saving intermediate results: 144000 papers so far...\n"
     ]
    },
    {
     "name": "stderr",
     "output_type": "stream",
     "text": [
      "Fetching Stylometry Papers: 145000it [1:01:02, 42.71it/s]"
     ]
    },
    {
     "name": "stdout",
     "output_type": "stream",
     "text": [
      "\n",
      "Saving intermediate results: 145000 papers so far...\n"
     ]
    },
    {
     "name": "stderr",
     "output_type": "stream",
     "text": [
      "Fetching Stylometry Papers: 146000it [1:01:38, 39.25it/s]"
     ]
    },
    {
     "name": "stdout",
     "output_type": "stream",
     "text": [
      "\n",
      "Saving intermediate results: 146000 papers so far...\n"
     ]
    },
    {
     "name": "stderr",
     "output_type": "stream",
     "text": [
      "Fetching Stylometry Papers: 147000it [1:02:09, 41.96it/s]"
     ]
    },
    {
     "name": "stdout",
     "output_type": "stream",
     "text": [
      "\n",
      "Saving intermediate results: 147000 papers so far...\n"
     ]
    },
    {
     "name": "stderr",
     "output_type": "stream",
     "text": [
      "Fetching Stylometry Papers: 148000it [1:02:41, 41.05it/s]"
     ]
    },
    {
     "name": "stdout",
     "output_type": "stream",
     "text": [
      "\n",
      "Saving intermediate results: 148000 papers so far...\n"
     ]
    },
    {
     "name": "stderr",
     "output_type": "stream",
     "text": [
      "Fetching Stylometry Papers: 148950it [1:03:13, 39.26it/s]\n"
     ]
    },
    {
     "name": "stdout",
     "output_type": "stream",
     "text": [
      "\n",
      "✅ Found 148950 papers in total\n",
      "\n",
      "🧠 Processing Data...\n",
      "\n",
      "💾 Saved complete dataset with 148950 papers to openalex_stylometry_dataset_complete.csv\n",
      "\n",
      "📊 Dataset Summary:\n",
      "Publication Years: 1838 - 2025\n",
      "Total Citations: 5349628\n",
      "Top 5 Journals:\n",
      "source\n",
      "                                   4673\n",
      "The Art Bulletin                   2549\n",
      "IEEE Access                        2061\n",
      "American Journal of Archaeology     877\n",
      "Frontiers in Psychology             863\n",
      "Name: count, dtype: int64\n",
      "Most Common Concepts:\n",
      "Psychology           68079\n",
      "Computer science     57109\n",
      "Philosophy           46415\n",
      "Political science    42685\n",
      "Sociology            39601\n",
      "Social psychology    37161\n",
      "Law                  36745\n",
      "Art                  35184\n",
      "History              29726\n",
      "Medicine             24692\n",
      "Name: count, dtype: int64\n",
      "\n",
      "Most Relevant Papers:\n",
      "- Stylometry and Authorship Attribution: Introduction to the Special Issue (2012) - Score: 3\n",
      "- The Effectiveness of Stemming in the Stylometric Authorship Attribution in Arabic (2020) - Score: 3\n",
      "- Stylometric Authorship Attribution for the Middle Dutch Mystical Tradition from Groenendaal (2016) - Score: 3\n",
      "- Stylometry and Automatic Attribution of Medieval Liturgical Monodies (2018) - Score: 3\n",
      "- Visual stylometry using background selection and wavelet-HMT-based Fisher information distances for attribution and dating of impressionist paintings (2012) - Score: 3\n"
     ]
    }
   ],
   "source": [
    "import requests\n",
    "import pandas as pd\n",
    "from tqdm import tqdm\n",
    "import time\n",
    "import random\n",
    "from requests.adapters import HTTPAdapter\n",
    "from urllib3.util.retry import Retry\n",
    "\n",
    "# Configure OpenAlex API\n",
    "BASE_URL = \"https://api.openalex.org/works\"\n",
    "EMAIL = \"amantanwer97@gmail.com\"  # Required for polite API usage\n",
    "HEADERS = {\"User-Agent\": f\"mailto:{EMAIL}\"}\n",
    "\n",
    "# Create a more resilient session with retry logic\n",
    "def create_resilient_session():\n",
    "    session = requests.Session()\n",
    "    retry_strategy = Retry(\n",
    "        total=10,  # Increased total number of retries\n",
    "        backoff_factor=2,  # More aggressive exponential backoff\n",
    "        status_forcelist=[429, 500, 502, 503, 504],  # Status codes to retry on\n",
    "        allowed_methods=[\"GET\"]  # Only retry GET requests\n",
    "    )\n",
    "    adapter = HTTPAdapter(max_retries=retry_strategy)\n",
    "    session.mount(\"http://\", adapter)\n",
    "    session.mount(\"https://\", adapter)\n",
    "    return session\n",
    "\n",
    "# Updated select fields based on the error message\n",
    "SELECT_FIELDS = [\n",
    "    \"id\", \"title\", \"doi\", \"publication_year\", \"authorships\",\n",
    "    \"cited_by_count\", \"concepts\", \"abstract_inverted_index\", \"primary_location\",\n",
    "    \"referenced_works_count\", \"related_works\", \"grants\"\n",
    "]\n",
    "\n",
    "# Comprehensive stylometry search query - full query\n",
    "STYLOMETRY_QUERY = {\n",
    "    \"search\": (\n",
    "        \"stylometry OR 'authorship attribution' OR 'writing style analysis' OR \"\n",
    "    \"'computational stylistics' OR 'literary fingerprint' OR 'text attribution'\"\n",
    "    ),\n",
    "    \"filter\": \"is_paratext:false,type:article\",  # Research articles only\n",
    "    \"per_page\": 200,  # Maximum allowed per page\n",
    "    \"select\": \",\".join(SELECT_FIELDS)\n",
    "}\n",
    "\n",
    "def fetch_stylometry_papers():\n",
    "    \"\"\"Fetch ALL stylometry papers from OpenAlex with pagination and retry logic\"\"\"\n",
    "    results = []\n",
    "    cursor = \"*\"\n",
    "    session = create_resilient_session()\n",
    "    \n",
    "    with tqdm(desc=\"Fetching Stylometry Papers\") as pbar:\n",
    "        while cursor:\n",
    "            params = {\n",
    "                \"cursor\": cursor,\n",
    "                \"per_page\": STYLOMETRY_QUERY['per_page'],\n",
    "                \"select\": STYLOMETRY_QUERY['select'],\n",
    "                \"filter\": STYLOMETRY_QUERY['filter'],\n",
    "                \"search\": STYLOMETRY_QUERY['search']\n",
    "            }\n",
    "            \n",
    "            try:\n",
    "                response = session.get(\n",
    "                    BASE_URL,\n",
    "                    params=params,\n",
    "                    headers=HEADERS,\n",
    "                    timeout=60  # Increased timeout\n",
    "                )\n",
    "                \n",
    "                if response.status_code == 200:\n",
    "                    data = response.json()\n",
    "                    batch_results = data.get(\"results\", [])\n",
    "                    results.extend(batch_results)\n",
    "                    pbar.update(len(batch_results))\n",
    "                    \n",
    "                    # Update cursor for next page\n",
    "                    cursor = data.get(\"meta\", {}).get(\"next_cursor\")\n",
    "                    \n",
    "                    # If no more results, break the loop\n",
    "                    if not cursor or cursor == \"null\":\n",
    "                        break\n",
    "                    \n",
    "                    # Add a moderate delay between requests\n",
    "                    time.sleep(2)  # Consistent 2-second delay\n",
    "                else:\n",
    "                    print(f\"Error: {response.status_code}\")\n",
    "                    print(f\"Response: {response.text}\")\n",
    "                    \n",
    "                    # Add longer backoff on error\n",
    "                    print(f\"Backing off for 30 seconds before retry...\")\n",
    "                    time.sleep(30)\n",
    "                    \n",
    "            except Exception as e:\n",
    "                print(f\"Connection error: {str(e)}\")\n",
    "                print(\"Retrying in 60 seconds...\")\n",
    "                time.sleep(60)\n",
    "                \n",
    "            # Save intermediate results every 1000 papers\n",
    "            if len(results) % 1000 == 0 and len(results) > 0:\n",
    "                print(f\"\\nSaving intermediate results: {len(results)} papers so far...\")\n",
    "                intermediate_df = process_papers(results)\n",
    "                intermediate_df.to_csv(f\"D:/DH_Results/openalex_stylometry_intermediate_{len(results)}.csv\", index=False)\n",
    "                \n",
    "    return results\n",
    "\n",
    "def safe_get(obj, *keys, default=\"\"):\n",
    "    \"\"\"Safely navigate nested dictionaries without raising AttributeError\"\"\"\n",
    "    if obj is None:\n",
    "        return default\n",
    "    \n",
    "    current = obj\n",
    "    for key in keys:\n",
    "        if isinstance(current, dict) and key in current:\n",
    "            current = current[key]\n",
    "        else:\n",
    "            return default\n",
    "    \n",
    "    return current if current is not None else default\n",
    "\n",
    "def process_papers(papers):\n",
    "    \"\"\"Transform raw API data into structured DataFrame\"\"\"\n",
    "    processed = []\n",
    "    \n",
    "    for paper in papers:\n",
    "        # Convert abstract_inverted_index to string if it exists\n",
    "        abstract = \"\"\n",
    "        if \"abstract_inverted_index\" in paper and paper[\"abstract_inverted_index\"]:\n",
    "            try:\n",
    "                # Try to reconstruct abstract from inverted index\n",
    "                inverted_index = paper[\"abstract_inverted_index\"]\n",
    "                positions = []\n",
    "                for word, pos_list in inverted_index.items():\n",
    "                    for pos in pos_list:\n",
    "                        positions.append((pos, word))\n",
    "                positions.sort()\n",
    "                abstract = \" \".join([word for _, word in positions])\n",
    "            except Exception as e:\n",
    "                abstract = f\"Abstract reconstruction failed: {str(e)[:100]}\"\n",
    "        \n",
    "        record = {\n",
    "            \"title\": paper.get(\"title\", \"\"),\n",
    "            \"year\": paper.get(\"publication_year\"),\n",
    "            \"doi\": paper.get(\"doi\", \"\"),\n",
    "            \"citations\": paper.get(\"cited_by_count\", 0),\n",
    "            \"abstract\": abstract[:2000],  # Truncate long abstracts\n",
    "            \"concepts\": [c.get(\"display_name\", \"\") for c in paper.get(\"concepts\", []) if isinstance(c, dict)],\n",
    "            \"authors\": [a.get(\"author\", {}).get(\"display_name\", \"\") for a in paper.get(\"authorships\", []) if isinstance(a, dict)],\n",
    "            \"references\": paper.get(\"referenced_works_count\", 0),\n",
    "            \"open_access\": safe_get(paper, \"primary_location\", \"is_oa\", default=False),\n",
    "            \"source\": safe_get(paper, \"primary_location\", \"source\", \"display_name\"),\n",
    "            \"grants\": [safe_get(g, \"funder_display_name\") for g in paper.get(\"grants\", []) if isinstance(g, dict)]\n",
    "        }\n",
    "        processed.append(record)\n",
    "    \n",
    "    return pd.DataFrame(processed)\n",
    "\n",
    "# Execute pipeline\n",
    "print(\"Starting Stylometry Paper Collection...\")\n",
    "print(\"This will fetch ALL possible papers matching the stylometry search terms.\")\n",
    "print(\"The script will run until all papers are collected, which may take a long time.\")\n",
    "print(\"Intermediate results will be saved every 1000 papers.\")\n",
    "\n",
    "raw_papers = fetch_stylometry_papers()\n",
    "print(f\"\\n Found {len(raw_papers)} papers in total\")\n",
    "\n",
    "if raw_papers:\n",
    "    print(\"\\n Processing Data...\")\n",
    "    df = process_papers(raw_papers)\n",
    "\n",
    "    # Add relevance scoring\n",
    "    df[\"stylometry_score\"] = df.apply(\n",
    "        lambda x: sum(1 for c in x[\"concepts\"] if isinstance(c, str) and \"stylometr\" in c.lower()) + \n",
    "        sum(1 for t in [\"stylometr\", \"attribution\"] if isinstance(x[\"title\"], str) and t in x[\"title\"].lower()),\n",
    "        axis=1\n",
    "    )\n",
    "\n",
    "    # Save final results\n",
    "    df.to_csv(\"openalex_stylometry_dataset_complete.csv\", index=False)\n",
    "    print(f\"\\n Saved complete dataset with {len(df)} papers to openalex_stylometry_dataset_complete.csv\")\n",
    "\n",
    "    # Show summary\n",
    "    print(\"\\n Dataset Summary:\")\n",
    "    if not df.empty:\n",
    "        print(f\"Publication Years: {df['year'].min()} - {df['year'].max()}\")\n",
    "        print(f\"Total Citations: {df['citations'].sum()}\")\n",
    "        print(f\"Top 5 Journals:\\n{df['source'].value_counts().head(5)}\")\n",
    "        \n",
    "        # Extract concepts more safely\n",
    "        all_concepts = []\n",
    "        for concepts_list in df['concepts']:\n",
    "            if isinstance(concepts_list, list):\n",
    "                all_concepts.extend([c for c in concepts_list if isinstance(c, str)])\n",
    "        \n",
    "        print(f\"Most Common Concepts:\\n{pd.Series(all_concepts).value_counts().head(10)}\")\n",
    "        \n",
    "        # Print papers with highest stylometry relevance\n",
    "        print(\"\\nMost Relevant Papers:\")\n",
    "        most_relevant = df.sort_values('stylometry_score', ascending=False).head(5)\n",
    "        for _, paper in most_relevant.iterrows():\n",
    "            print(f\"- {paper['title']} ({paper['year']}) - Score: {paper['stylometry_score']}\")\n",
    "    else:\n",
    "        print(\"DataFrame is empty. No data to summarize.\")\n",
    "else:\n",
    "    print(\"No papers were retrieved. Check the API parameters and connection.\")"
   ]
  },
  {
   "cell_type": "code",
   "execution_count": null,
   "id": "547d6587-7a1f-490a-b1dd-c6b15b520561",
   "metadata": {},
   "outputs": [],
   "source": []
  },
  {
   "cell_type": "code",
   "execution_count": 6,
   "id": "61843e09-7fde-4310-9df5-9cbce114366f",
   "metadata": {},
   "outputs": [
    {
     "data": {
      "text/plain": [
       "title               Visual stylometry using background selection a...\n",
       "year                                                             2012\n",
       "doi                      https://doi.org/10.1016/j.sigpro.2012.09.025\n",
       "citations                                                          22\n",
       "abstract                                                             \n",
       "concepts            [Stylometry, Painting, Metric (unit), Represen...\n",
       "authors                  [Hanchao Qi, Armeen Taeb, Shannon M. Hughes]\n",
       "references                                                         33\n",
       "open_access                                                     False\n",
       "source                                              Signal Processing\n",
       "grants                                                             []\n",
       "stylometry_score                                                    3\n",
       "Name: 6978, dtype: object"
      ]
     },
     "execution_count": 6,
     "metadata": {},
     "output_type": "execute_result"
    }
   ],
   "source": [
    "paper.head(1000)"
   ]
  },
  {
   "cell_type": "markdown",
   "id": "02753aca-95ad-48df-a17a-8a847b5d40d4",
   "metadata": {},
   "source": [
    "## Creating list of important papers based on citation count"
   ]
  },
  {
   "cell_type": "code",
   "execution_count": 8,
   "id": "8f3e8555-7786-4c9f-bc48-a9ae539d48c0",
   "metadata": {},
   "outputs": [
    {
     "name": "stdout",
     "output_type": "stream",
     "text": [
      "Loading the stylometry dataset...\n",
      "Dataset loaded: 148950 papers in total\n",
      "\n",
      " Dataset Overview:\n",
      "Publication years: 1838 - 2025\n",
      "Total citations: 5,349,628\n",
      "Average citations per paper: 35.92\n",
      "Median citations per paper: 5.00\n",
      "\n",
      " Top 20 Most Cited Papers:\n",
      "1. Global cancer statistics 2018: GLOBOCAN estimates of incidence and mortality worldwide for 36 cancers in 185 countries (2018) - Citations: 76,017\n",
      "   DOI: https://doi.org/10.3322/caac.21492\n",
      "   Authors: N/A\n",
      "\n",
      "2. Self-determination theory and the facilitation of intrinsic motivation, social development, and well-being. (2000) - Citations: 28,813\n",
      "   DOI: https://doi.org/10.1037/0003-066x.55.1.68\n",
      "   Authors: N/A\n",
      "\n",
      "3. Self-determination theory and the facilitation of intrinsic motivation, social development, and well-being. (2000) - Citations: 23,667\n",
      "   DOI: https://doi.org/10.1037//0003-066x.55.1.68\n",
      "   Authors: N/A\n",
      "\n",
      "4. Unpaired Image-to-Image Translation Using Cycle-Consistent Adversarial Networks (2017) - Citations: 19,021\n",
      "   DOI: https://doi.org/10.1109/iccv.2017.244\n",
      "   Authors: N/A\n",
      "\n",
      "5. Intrinsic and Extrinsic Motivations: Classic Definitions and New Directions (2000) - Citations: 16,325\n",
      "   DOI: https://doi.org/10.1006/ceps.1999.1020\n",
      "   Authors: N/A\n",
      "\n",
      "6. The Practice of Social Research (1989) - Citations: 15,141\n",
      "   DOI: https://doi.org/10.2307/1318433\n",
      "   Authors: N/A\n",
      "\n",
      "7. An Integrative Model Of Organizational Trust (1995) - Citations: 14,018\n",
      "   DOI: https://doi.org/10.5465/amr.1995.9508080335\n",
      "   Authors: N/A\n",
      "\n",
      "8. Risk Society, Towards a New Modernity (1994) - Citations: 12,963\n",
      "   DOI: https://doi.org/10.2307/3341155\n",
      "   Authors: N/A\n",
      "\n",
      "9. Metascape provides a biologist-oriented resource for the analysis of systems-level datasets (2019) - Citations: 10,962\n",
      "   DOI: https://doi.org/10.1038/s41467-019-09234-6\n",
      "   Authors: N/A\n",
      "\n",
      "10. Job Burnout (2001) - Citations: 10,559\n",
      "   DOI: https://doi.org/10.1146/annurev.psych.52.1.397\n",
      "   Authors: N/A\n",
      "\n",
      "11. The weirdest people in the world? (2010) - Citations: 10,050\n",
      "   DOI: https://doi.org/10.1017/s0140525x0999152x\n",
      "   Authors: N/A\n",
      "\n",
      "12. An Integrative Model of Organizational Trust (1995) - Citations: 7,746\n",
      "   DOI: https://doi.org/10.2307/258792\n",
      "   Authors: N/A\n",
      "\n",
      "13. Social Identity Theory and the Organization (1989) - Citations: 7,648\n",
      "   DOI: https://doi.org/10.5465/amr.1989.4278999\n",
      "   Authors: N/A\n",
      "\n",
      "14. Perceived Self-Efficacy in Cognitive Development and Functioning (1993) - Citations: 7,248\n",
      "   DOI: https://doi.org/10.1207/s15326985ep2802_3\n",
      "   Authors: N/A\n",
      "\n",
      "15. Bad is Stronger than Good (2001) - Citations: 6,633\n",
      "   DOI: https://doi.org/10.1037/1089-2680.5.4.323\n",
      "   Authors: N/A\n",
      "\n",
      "16. The STRING database in 2021: customizable protein–protein networks, and functional characterization of user-uploaded gene/measurement sets (2020) - Citations: 6,207\n",
      "   DOI: https://doi.org/10.1093/nar/gkaa1074\n",
      "   Authors: N/A\n",
      "\n",
      "17. Impact of Informing Overweight Individuals about the Role of Genetics in Obesity: An Online Experimental Study (2013) - Citations: 5,885\n",
      "   DOI: https://doi.org/10.1159/000353712\n",
      "   Authors: N/A\n",
      "\n",
      "18. UniProt: the universal protein knowledgebase in 2021 (2020) - Citations: 5,856\n",
      "   DOI: https://doi.org/10.1093/nar/gkaa1100\n",
      "   Authors: N/A\n",
      "\n",
      "19. High Self‐Control Predicts Good Adjustment, Less Pathology, Better Grades, and Interpersonal Success (2004) - Citations: 5,839\n",
      "   DOI: https://doi.org/10.1111/j.0022-3506.2004.00263.x\n",
      "   Authors: N/A\n",
      "\n",
      "20. Grit: Perseverance and passion for long-term goals. (2007) - Citations: 5,814\n",
      "   DOI: https://doi.org/10.1037/0022-3514.92.6.1087\n",
      "   Authors: N/A\n",
      "\n",
      "Created visualization of citation distribution (saved as 'citation_distribution.png')\n",
      "Created visualization of top cited papers (saved as 'top_cited_papers.png')\n",
      "\n",
      " Saved top 100 most cited papers to 'top_100_cited_stylometry_papers.csv'\n",
      "\n",
      "High-impact papers (top 5% by citation): 7447\n",
      "Citation threshold for high-impact papers: 136+ citations\n",
      "\n",
      " Top 20 Most Important Papers (Citation + Relevance):\n",
      "1. Global cancer statistics 2018: GLOBOCAN estimates of incidence and mortality worldwide for 36 cancers in 185 countries (2018)\n",
      "   Citations: 76,017 | Stylometry Score: 0.00 | Importance: 0.700\n",
      "   DOI: https://doi.org/10.3322/caac.21492\n",
      "\n",
      "2. Gender Attribution: Tracing Stylometric Evidence Beyond Topic and Genre (2011)\n",
      "   Citations: 106 | Stylometry Score: 3.00 | Importance: 0.301\n",
      "   DOI: nan\n",
      "\n",
      "3. Visual stylometry using background selection and wavelet-HMT-based Fisher information distances for attribution and dating of impressionist paintings (2012)\n",
      "   Citations: 22 | Stylometry Score: 3.00 | Importance: 0.300\n",
      "   DOI: https://doi.org/10.1016/j.sigpro.2012.09.025\n",
      "\n",
      "4. Robert Musil, a war journal, and stylometry: Tackling the issue of short texts in authorship attribution (2018)\n",
      "   Citations: 20 | Stylometry Score: 3.00 | Importance: 0.300\n",
      "   DOI: https://doi.org/10.1093/llc/fqy055\n",
      "\n",
      "5. The Effectiveness of Stemming in the Stylometric Authorship Attribution in Arabic (2020)\n",
      "   Citations: 20 | Stylometry Score: 3.00 | Importance: 0.300\n",
      "   DOI: https://doi.org/10.14569/ijacsa.2020.0110114\n",
      "\n",
      "6. $CAG$ : Stylometric Authorship Attribution of Multi-Author Documents Using a Co-Authorship Graph (2020)\n",
      "   Citations: 19 | Stylometry Score: 3.00 | Importance: 0.300\n",
      "   DOI: https://doi.org/10.1109/access.2020.2967449\n",
      "\n",
      "7. A stylometric analysis on Bengali literature for authorship attribution (2017)\n",
      "   Citations: 18 | Stylometry Score: 3.00 | Importance: 0.300\n",
      "   DOI: https://doi.org/10.1109/iccitechn.2017.8281768\n",
      "\n",
      "8. Stylometry and Authorship Attribution: Introduction to the Special Issue (2012)\n",
      "   Citations: 11 | Stylometry Score: 3.00 | Importance: 0.300\n",
      "   DOI: https://doi.org/10.1080/0013838x.2012.668788\n",
      "\n",
      "9. Dropping down the Maximum Item Set: Improving the Stylometric Authorship Attribution Algorithm in the Text Mining for Authorship Investigation (2010)\n",
      "   Citations: 6 | Stylometry Score: 3.00 | Importance: 0.300\n",
      "   DOI: https://doi.org/10.3844/jcssp.2010.235.243\n",
      "\n",
      "10. Stylometric Authorship Attribution for the Middle Dutch Mystical Tradition from Groenendaal (2016)\n",
      "   Citations: 5 | Stylometry Score: 3.00 | Importance: 0.300\n",
      "   DOI: https://doi.org/10.1080/03096564.2016.1252077\n",
      "\n",
      "11. Authorship attribution of Morsi Gameel Aziz’s lyrics: A clustering-based stylometry approach (2021)\n",
      "   Citations: 2 | Stylometry Score: 3.00 | Importance: 0.300\n",
      "   DOI: https://doi.org/10.52462/jlls.36\n",
      "\n",
      "12. Ranking Attribution: A Novel Method for Stylometric Authorship Identification (2018)\n",
      "   Citations: 1 | Stylometry Score: 3.00 | Importance: 0.300\n",
      "   DOI: https://doi.org/10.14569/ijacsa.2018.090709\n",
      "\n",
      "13. Authorship Attribution of Short Historical Arabic Texts using Stylometric Features and a KNN Classifier with Limited Training Data (2020)\n",
      "   Citations: 1 | Stylometry Score: 3.00 | Importance: 0.300\n",
      "   DOI: https://doi.org/10.3844/jcssp.2020.1334.1345\n",
      "\n",
      "14. State of the Art in Authorship Attribution With Impact Analysis of Stylometric Features on Style Breach Prediction (2022)\n",
      "   Citations: 1 | Stylometry Score: 3.00 | Importance: 0.300\n",
      "   DOI: https://doi.org/10.4018/jcit.296716\n",
      "\n",
      "15. Stylometry and Automatic Attribution of Medieval Liturgical Monodies (2018)\n",
      "   Citations: 0 | Stylometry Score: 3.00 | Importance: 0.300\n",
      "   DOI: https://doi.org/10.4000/ijcol.518\n",
      "\n",
      "16. Self-determination theory and the facilitation of intrinsic motivation, social development, and well-being. (2000)\n",
      "   Citations: 28,813 | Stylometry Score: 0.00 | Importance: 0.265\n",
      "   DOI: https://doi.org/10.1037/0003-066x.55.1.68\n",
      "\n",
      "17. Self-determination theory and the facilitation of intrinsic motivation, social development, and well-being. (2000)\n",
      "   Citations: 23,667 | Stylometry Score: 0.00 | Importance: 0.218\n",
      "   DOI: https://doi.org/10.1037//0003-066x.55.1.68\n",
      "\n",
      "18. Computational methods in authorship attribution (2008)\n",
      "   Citations: 472 | Stylometry Score: 2.00 | Importance: 0.204\n",
      "   DOI: https://doi.org/10.1002/asi.20961\n",
      "\n",
      "19. The Evolution of Stylometry in Humanities Scholarship (1998)\n",
      "   Citations: 471 | Stylometry Score: 2.00 | Importance: 0.204\n",
      "   DOI: https://doi.org/10.1093/llc/13.3.111\n",
      "\n",
      "20. The Federalist Revisited: New Directions in Authorship Attribution (1995)\n",
      "   Citations: 274 | Stylometry Score: 2.00 | Importance: 0.203\n",
      "   DOI: https://doi.org/10.1093/llc/10.2.111\n",
      "\n",
      " Saved top 100 most important papers to 'top_100_important_stylometry_papers.csv'\n"
     ]
    },
    {
     "data": {
      "image/png": "[encoded data removed]",
      "text/plain": [
       "<Figure size 1000x600 with 1 Axes>"
      ]
     },
     "metadata": {},
     "output_type": "display_data"
    },
    {
     "data": {
      "image/png": "[encoded data removed]",
      "text/plain": [
       "<Figure size 1200x800 with 1 Axes>"
      ]
     },
     "metadata": {},
     "output_type": "display_data"
    }
   ],
   "source": [
    "import pandas as pd\n",
    "import matplotlib.pyplot as plt\n",
    "import seaborn as sns\n",
    "\n",
    "# Load the dataset\n",
    "print(\"Loading the stylometry dataset...\")\n",
    "df = pd.read_csv(\"openalex_stylometry_dataset_complete.csv\")\n",
    "\n",
    "print(f\"Dataset loaded: {len(df)} papers in total\")\n",
    "\n",
    "# Basic dataset statistics\n",
    "print(\"\\n Dataset Overview:\")\n",
    "print(f\"Publication years: {df['year'].min()} - {df['year'].max()}\")\n",
    "print(f\"Total citations: {df['citations'].sum():,}\")\n",
    "print(f\"Average citations per paper: {df['citations'].mean():.2f}\")\n",
    "print(f\"Median citations per paper: {df['citations'].median():.2f}\")\n",
    "\n",
    "# Sort papers by citation count (descending)\n",
    "most_cited = df.sort_values('citations', ascending=False)\n",
    "\n",
    "# Display the top 20 most cited papers\n",
    "print(\"\\n Top 20 Most Cited Papers:\")\n",
    "for i, (_, paper) in enumerate(most_cited.head(20).iterrows(), 1):\n",
    "    print(f\"{i}. {paper['title']} ({paper['year']}) - Citations: {paper['citations']:,}\")\n",
    "    print(f\"   DOI: {paper['doi']}\")\n",
    "    print(f\"   Authors: {', '.join(paper['authors'][:3]) if isinstance(paper['authors'], list) else 'N/A'}\")\n",
    "    if i < 20:\n",
    "        print()  # Add line break between papers\n",
    "\n",
    "# Create a visualization of citation distribution\n",
    "plt.figure(figsize=(10, 6))\n",
    "sns.histplot(df['citations'].clip(upper=df['citations'].quantile(0.95)), bins=30)\n",
    "plt.title('Distribution of Citations (clipped at 95th percentile)')\n",
    "plt.xlabel('Number of Citations')\n",
    "plt.ylabel('Count of Papers')\n",
    "plt.tight_layout()\n",
    "plt.savefig('citation_distribution.png')\n",
    "print(\"\\nCreated visualization of citation distribution (saved as 'citation_distribution.png')\")\n",
    "\n",
    "# Create a visualization of top papers by citation\n",
    "top_papers = most_cited.head(10)\n",
    "plt.figure(figsize=(12, 8))\n",
    "bars = plt.barh(top_papers['title'].str.slice(0, 50) + '...', top_papers['citations'])\n",
    "plt.xlabel('Number of Citations')\n",
    "plt.title('Top 10 Most Cited Stylometry Papers')\n",
    "plt.tight_layout()\n",
    "plt.savefig('top_cited_papers.png')\n",
    "print(\"Created visualization of top cited papers (saved as 'top_cited_papers.png')\")\n",
    "\n",
    "# Save the top 100 papers to a new CSV file\n",
    "most_cited.head(100).to_csv('top_100_cited_stylometry_papers.csv', index=False)\n",
    "print(\"\\n Saved top 100 most cited papers to 'top_100_cited_stylometry_papers.csv'\")\n",
    "\n",
    "# Optional: Calculate citation-based metrics\n",
    "df['citation_percentile'] = df['citations'].rank(pct=True) * 100\n",
    "high_impact_papers = df[df['citation_percentile'] > 95]  # Top 5% by citation\n",
    "print(f\"\\nHigh-impact papers (top 5% by citation): {len(high_impact_papers)}\")\n",
    "print(f\"Citation threshold for high-impact papers: {high_impact_papers['citations'].min():,}+ citations\")\n",
    "\n",
    "# Add this to the previous script\n",
    "\n",
    "# Create a combined importance score\n",
    "# Normalize citations and stylometry_score to 0-1 range\n",
    "df['norm_citations'] = df['citations'] / df['citations'].max()\n",
    "df['norm_stylometry'] = df['stylometry_score'] / df['stylometry_score'].max()\n",
    "\n",
    "# Combined score (70% citations, 30% stylometry relevance)\n",
    "df['importance_score'] = (0.7 * df['norm_citations']) + (0.3 * df['norm_stylometry'])\n",
    "\n",
    "# Sort by combined importance score\n",
    "most_important = df.sort_values('importance_score', ascending=False)\n",
    "\n",
    "# Display top 20 papers by importance score\n",
    "print(\"\\n Top 20 Most Important Papers (Citation + Relevance):\")\n",
    "for i, (_, paper) in enumerate(most_important.head(20).iterrows(), 1):\n",
    "    print(f\"{i}. {paper['title']} ({paper['year']})\")\n",
    "    print(f\"   Citations: {paper['citations']:,} | Stylometry Score: {paper['stylometry_score']:.2f} | Importance: {paper['importance_score']:.3f}\")\n",
    "    print(f\"   DOI: {paper['doi']}\")\n",
    "    if i < 20:\n",
    "        print()\n",
    "\n",
    "# Save top 100 important papers\n",
    "most_important.head(10000).to_csv('top_10000_stylometry_papers_based_on_citation_count.csv', index=False)\n",
    "print(\"\\n Saved top 100 most important papers to 'top_100_important_stylometry_papers.csv'\")"
   ]
  },
  {
   "cell_type": "markdown",
   "id": "113910c4-5cd7-43f7-9e8b-091bb2e6928b",
   "metadata": {},
   "source": [
    "## Creating list of important papers based on PageRank"
   ]
  },
  {
   "cell_type": "code",
   "execution_count": 9,
   "id": "f6ae36ae-1bb7-42dc-bd82-acf51defa7f6",
   "metadata": {},
   "outputs": [
    {
     "name": "stdout",
     "output_type": "stream",
     "text": [
      "Loading the stylometry dataset...\n",
      "Dataset loaded: 148950 papers in total\n",
      "Warning: 'related_works' column is missing or empty. We'll use citation counts instead.\n",
      "\n",
      "Creating citation network...\n"
     ]
    },
    {
     "name": "stderr",
     "output_type": "stream",
     "text": [
      "Adding nodes: 100%|█████████████████████████████████████████████████████████| 148950/148950 [00:08<00:00, 17906.36it/s]\n"
     ]
    },
    {
     "name": "stdout",
     "output_type": "stream",
     "text": [
      "\n",
      "Calculating PageRank...\n",
      "\n",
      " Top 20 Most Important Papers (PageRank + Stylometry Relevance):\n",
      "1. Stylometry and Authorship Attribution: Introduction to the Special Issue (2012)\n",
      "   PageRank: 0.000007 | Stylometry Score: 3.00\n",
      "   Importance: 1.000\n",
      "   DOI: https://doi.org/10.1080/0013838x.2012.668788\n",
      "\n",
      "2. The Effectiveness of Stemming in the Stylometric Authorship Attribution in Arabic (2020)\n",
      "   PageRank: 0.000007 | Stylometry Score: 3.00\n",
      "   Importance: 1.000\n",
      "   DOI: https://doi.org/10.14569/ijacsa.2020.0110114\n",
      "\n",
      "3. Stylometric Authorship Attribution for the Middle Dutch Mystical Tradition from Groenendaal (2016)\n",
      "   PageRank: 0.000007 | Stylometry Score: 3.00\n",
      "   Importance: 1.000\n",
      "   DOI: https://doi.org/10.1080/03096564.2016.1252077\n",
      "\n",
      "4. Stylometry and Automatic Attribution of Medieval Liturgical Monodies (2018)\n",
      "   PageRank: 0.000007 | Stylometry Score: 3.00\n",
      "   Importance: 1.000\n",
      "   DOI: https://doi.org/10.4000/ijcol.518\n",
      "\n",
      "5. Visual stylometry using background selection and wavelet-HMT-based Fisher information distances for attribution and dating of impressionist paintings (2012)\n",
      "   PageRank: 0.000007 | Stylometry Score: 3.00\n",
      "   Importance: 1.000\n",
      "   DOI: https://doi.org/10.1016/j.sigpro.2012.09.025\n",
      "\n",
      "6. Robert Musil, a war journal, and stylometry: Tackling the issue of short texts in authorship attribution (2018)\n",
      "   PageRank: 0.000007 | Stylometry Score: 3.00\n",
      "   Importance: 1.000\n",
      "   DOI: https://doi.org/10.1093/llc/fqy055\n",
      "\n",
      "7. $CAG$ : Stylometric Authorship Attribution of Multi-Author Documents Using a Co-Authorship Graph (2020)\n",
      "   PageRank: 0.000007 | Stylometry Score: 3.00\n",
      "   Importance: 1.000\n",
      "   DOI: https://doi.org/10.1109/access.2020.2967449\n",
      "\n",
      "8. Authorship Attribution of Short Historical Arabic Texts using Stylometric Features and a KNN Classifier with Limited Training Data (2020)\n",
      "   PageRank: 0.000007 | Stylometry Score: 3.00\n",
      "   Importance: 1.000\n",
      "   DOI: https://doi.org/10.3844/jcssp.2020.1334.1345\n",
      "\n",
      "9. Ranking Attribution: A Novel Method for Stylometric Authorship Identification (2018)\n",
      "   PageRank: 0.000007 | Stylometry Score: 3.00\n",
      "   Importance: 1.000\n",
      "   DOI: https://doi.org/10.14569/ijacsa.2018.090709\n",
      "\n",
      "10. Gender Attribution: Tracing Stylometric Evidence Beyond Topic and Genre (2011)\n",
      "   PageRank: 0.000007 | Stylometry Score: 3.00\n",
      "   Importance: 1.000\n",
      "   DOI: nan\n",
      "\n",
      "11. Authorship attribution of Morsi Gameel Aziz’s lyrics: A clustering-based stylometry approach (2021)\n",
      "   PageRank: 0.000007 | Stylometry Score: 3.00\n",
      "   Importance: 1.000\n",
      "   DOI: https://doi.org/10.52462/jlls.36\n",
      "\n",
      "12. State of the Art in Authorship Attribution With Impact Analysis of Stylometric Features on Style Breach Prediction (2022)\n",
      "   PageRank: 0.000007 | Stylometry Score: 3.00\n",
      "   Importance: 1.000\n",
      "   DOI: https://doi.org/10.4018/jcit.296716\n",
      "\n",
      "13. A stylometric analysis on Bengali literature for authorship attribution (2017)\n",
      "   PageRank: 0.000007 | Stylometry Score: 3.00\n",
      "   Importance: 1.000\n",
      "   DOI: https://doi.org/10.1109/iccitechn.2017.8281768\n",
      "\n",
      "14. Dropping down the Maximum Item Set: Improving the Stylometric Authorship Attribution Algorithm in the Text Mining for Authorship Investigation (2010)\n",
      "   PageRank: 0.000007 | Stylometry Score: 3.00\n",
      "   Importance: 1.000\n",
      "   DOI: https://doi.org/10.3844/jcssp.2010.235.243\n",
      "\n",
      "15. Forensic Authorship Analysis of Microblogging Texts Using N-Grams and Stylometric Features (2020)\n",
      "   PageRank: 0.000007 | Stylometry Score: 2.00\n",
      "   Importance: 0.867\n",
      "   DOI: https://doi.org/10.1109/iwbf49977.2020.9107953\n",
      "\n",
      "16. A Stylometry Toolkit for Latin Literature (2019)\n",
      "   PageRank: 0.000007 | Stylometry Score: 2.00\n",
      "   Importance: 0.867\n",
      "   DOI: https://doi.org/10.18653/v1/d19-3035\n",
      "\n",
      "17. Authorship verification for short messages using stylometry (2013)\n",
      "   PageRank: 0.000007 | Stylometry Score: 2.00\n",
      "   Importance: 0.867\n",
      "   DOI: https://doi.org/10.1109/cits.2013.6705711\n",
      "\n",
      "18. Computational Stylometric Approach to the Dead Sea Scrolls (2018)\n",
      "   PageRank: 0.000007 | Stylometry Score: 2.00\n",
      "   Importance: 0.867\n",
      "   DOI: https://doi.org/10.1163/15685179-12341464\n",
      "\n",
      "19. On the Use of Supervised Learning Method for Authorship Attribution (2012)\n",
      "   PageRank: 0.000007 | Stylometry Score: 2.00\n",
      "   Importance: 0.867\n",
      "   DOI: https://doi.org/10.30684/etj.30.2.8\n",
      "\n",
      "20. Adversarial stylometry (2012)\n",
      "   PageRank: 0.000007 | Stylometry Score: 2.00\n",
      "   Importance: 0.867\n",
      "   DOI: https://doi.org/10.1145/2382448.2382450\n",
      "\n",
      "Created visualization of top papers by PageRank (saved as 'top_pagerank_papers.png')\n",
      "Created visualization of PageRank vs Stylometry (saved as 'pagerank_vs_stylometry.png')\n",
      "\n",
      " Saved top 100 most important papers to 'top_100_pagerank_stylometry_papers.csv'\n",
      "\n",
      " Found 0 potential 'hidden gems' (high stylometry relevance but lower PageRank)\n",
      "Top 5 Hidden Gems:\n"
     ]
    },
    {
     "data": {
      "image/png": "[encoded data removed]",
      "text/plain": [
       "<Figure size 1200x800 with 1 Axes>"
      ]
     },
     "metadata": {},
     "output_type": "display_data"
    },
    {
     "data": {
      "image/png": "[encoded data removed]",
      "text/plain": [
       "<Figure size 1000x800 with 1 Axes>"
      ]
     },
     "metadata": {},
     "output_type": "display_data"
    }
   ],
   "source": [
    "import pandas as pd\n",
    "import numpy as np\n",
    "import networkx as nx\n",
    "import matplotlib.pyplot as plt\n",
    "import seaborn as sns\n",
    "from tqdm import tqdm\n",
    "\n",
    "# Load the dataset\n",
    "print(\"Loading the stylometry dataset...\")\n",
    "df = pd.read_csv(\"openalex_stylometry_dataset_complete.csv\")\n",
    "\n",
    "print(f\"Dataset loaded: {len(df)} papers in total\")\n",
    "\n",
    "# Check if 'related_works' column exists and is usable\n",
    "if 'related_works' not in df.columns or df['related_works'].isna().all():\n",
    "    print(\"Warning: 'related_works' column is missing or empty. We'll use citation counts instead.\")\n",
    "    has_related_works = False\n",
    "else:\n",
    "    has_related_works = True\n",
    "\n",
    "# Create a citation network using NetworkX\n",
    "print(\"\\nCreating citation network...\")\n",
    "G = nx.DiGraph()\n",
    "\n",
    "# Add all papers as nodes first\n",
    "for idx, row in tqdm(df.iterrows(), total=len(df), desc=\"Adding nodes\"):\n",
    "    paper_id = row.get('id', f\"paper_{idx}\")\n",
    "    G.add_node(paper_id, title=row['title'], year=row['year'], citations=row['citations'])\n",
    "\n",
    "# Add edges based on related works (if available)\n",
    "if has_related_works:\n",
    "    for idx, row in tqdm(df.iterrows(), total=len(df), desc=\"Adding edges\"):\n",
    "        paper_id = row.get('id', f\"paper_{idx}\")\n",
    "        \n",
    "        # Check if related_works is a list or string representation of a list\n",
    "        related = row.get('related_works', [])\n",
    "        if isinstance(related, str):\n",
    "            try:\n",
    "                # Try to parse string as list\n",
    "                related = eval(related)\n",
    "            except:\n",
    "                related = []\n",
    "        \n",
    "        # Add edges for each related work\n",
    "        for ref_id in related:\n",
    "            if ref_id in G:\n",
    "                G.add_edge(ref_id, paper_id)  # Direction is from cited to citing\n",
    "\n",
    "# Calculate PageRank\n",
    "print(\"\\nCalculating PageRank...\")\n",
    "pagerank = nx.pagerank(G, alpha=0.85)\n",
    "\n",
    "# Add PageRank scores to the DataFrame\n",
    "df['pagerank'] = 0.0\n",
    "for idx, row in df.iterrows():\n",
    "    paper_id = row.get('id', f\"paper_{idx}\")\n",
    "    if paper_id in pagerank:\n",
    "        df.at[idx, 'pagerank'] = pagerank[paper_id]\n",
    "\n",
    "# Create a combined importance score\n",
    "# Normalize PageRank and stylometry_score to 0-1 range\n",
    "df['norm_pagerank'] = df['pagerank'] / df['pagerank'].max()\n",
    "df['norm_stylometry'] = df['stylometry_score'] / df['stylometry_score'].max()\n",
    "\n",
    "# Combined score (60% PageRank, 40% stylometry relevance)\n",
    "df['importance_score'] = (0.6 * df['norm_pagerank']) + (0.4 * df['norm_stylometry'])\n",
    "\n",
    "# Sort by combined importance score\n",
    "most_important = df.sort_values('importance_score', ascending=False)\n",
    "\n",
    "# Display top 20 papers by importance score\n",
    "print(\"\\n Top 20 Most Important Papers (PageRank + Stylometry Relevance):\")\n",
    "for i, (_, paper) in enumerate(most_important.head(20).iterrows(), 1):\n",
    "    print(f\"{i}. {paper['title']} ({paper['year']})\")\n",
    "    print(f\"   PageRank: {paper['pagerank']:.6f} | Stylometry Score: {paper['stylometry_score']:.2f}\")\n",
    "    print(f\"   Importance: {paper['importance_score']:.3f}\")\n",
    "    print(f\"   DOI: {paper['doi']}\")\n",
    "    if i < 20:\n",
    "        print()\n",
    "\n",
    "# Create a visualization of top papers by PageRank\n",
    "top_papers = df.sort_values('pagerank', ascending=False).head(10)\n",
    "plt.figure(figsize=(12, 8))\n",
    "bars = plt.barh(top_papers['title'].str.slice(0, 50) + '...', top_papers['pagerank'])\n",
    "plt.xlabel('PageRank Score')\n",
    "plt.title('Top 10 Papers by PageRank')\n",
    "plt.tight_layout()\n",
    "plt.savefig('top_pagerank_papers.png')\n",
    "print(\"\\nCreated visualization of top papers by PageRank (saved as 'top_pagerank_papers.png')\")\n",
    "\n",
    "# Create a scatter plot of PageRank vs Stylometry Score\n",
    "plt.figure(figsize=(10, 8))\n",
    "plt.scatter(df['pagerank'], df['stylometry_score'], alpha=0.5)\n",
    "plt.xlabel('PageRank Score')\n",
    "plt.ylabel('Stylometry Relevance Score')\n",
    "plt.title('PageRank vs Stylometry Relevance')\n",
    "plt.tight_layout()\n",
    "plt.savefig('pagerank_vs_stylometry.png')\n",
    "print(\"Created visualization of PageRank vs Stylometry (saved as 'pagerank_vs_stylometry.png')\")\n",
    "\n",
    "# Save the top 100 papers to a new CSV file\n",
    "most_important.head(10000).to_csv('top_10000_stylometry_papers_based_on_PageRank.csv', index=False)\n",
    "print(\"\\n Saved top 100 most important papers to 'top_100_pagerank_stylometry_papers.csv'\")\n",
    "\n",
    "# Optional: Find papers with high stylometry relevance but low PageRank (hidden gems)\n",
    "df['stylometry_percentile'] = df['stylometry_score'].rank(pct=True) * 100\n",
    "df['pagerank_percentile'] = df['pagerank'].rank(pct=True) * 100\n",
    "\n",
    "hidden_gems = df[(df['stylometry_percentile'] > 80) & (df['pagerank_percentile'] < 50)]\n",
    "hidden_gems = hidden_gems.sort_values('stylometry_score', ascending=False)\n",
    "\n",
    "print(f\"\\n Found {len(hidden_gems)} potential 'hidden gems' (high stylometry relevance but lower PageRank)\")\n",
    "print(\"Top 5 Hidden Gems:\")\n",
    "for i, (_, paper) in enumerate(hidden_gems.head(5).iterrows(), 1):\n",
    "    print(f\"{i}. {paper['title']} ({paper['year']})\")\n",
    "    print(f\"   PageRank: {paper['pagerank']:.6f} | Stylometry Score: {paper['stylometry_score']:.2f}\")\n",
    "    print(f\"   DOI: {paper['doi']}\")\n",
    "    if i < 5:\n",
    "        print()"
   ]
  },
  {
   "cell_type": "code",
   "execution_count": null,
   "id": "2bfd3bcd-3eca-457b-9118-8b6324f97def",
   "metadata": {},
   "outputs": [],
   "source": []
  },
  {
   "cell_type": "markdown",
   "id": "30901383-2d6a-43cd-80d9-e37b4689cc22",
   "metadata": {},
   "source": [
    "## Comparing both the lists with recommended papers"
   ]
  },
  {
   "cell_type": "code",
   "execution_count": 11,
   "id": "10a1c9dc-ad1a-44da-897f-69e24d9c7d8c",
   "metadata": {},
   "outputs": [
    {
     "name": "stdout",
     "output_type": "stream",
     "text": [
      "Stylometry Papers Comparison Tool\n",
      "--------------------------------\n",
      "Loaded 10000 papers from citation method.\n",
      "Loaded 10000 papers from PageRank method.\n",
      "Parsed 39 recommended papers.\n",
      "\n",
      "--- Citation DataFrame Structure ---\n",
      "Shape: (10000, 16)\n",
      "Columns: ['title', 'year', 'doi', 'citations', 'abstract', 'concepts', 'authors', 'references', 'open_access', 'source', 'grants', 'stylometry_score', 'citation_percentile', 'norm_citations', 'norm_stylometry', 'importance_score']\n",
      "\n",
      "Sample row:\n",
      "title                  Global cancer statistics 2018: GLOBOCAN estima...\n",
      "year                                                                2018\n",
      "doi                                   https://doi.org/10.3322/caac.21492\n",
      "citations                                                          76017\n",
      "abstract               Abstract This article provides a status report...\n",
      "concepts               ['Cancer', 'Colorectal cancer', 'Medicine', 'S...\n",
      "authors                ['Freddie Bray', 'Jacques Ferlay', 'Isabelle S...\n",
      "references                                                            69\n",
      "open_access                                                         True\n",
      "source                                CA A Cancer Journal for Clinicians\n",
      "grants                                                                []\n",
      "stylometry_score                                                       0\n",
      "citation_percentile                                                100.0\n",
      "norm_citations                                                       1.0\n",
      "norm_stylometry                                                      0.0\n",
      "importance_score                                                     0.7\n",
      "Name: 0, dtype: object\n",
      "\n",
      "--- PageRank DataFrame Structure ---\n",
      "Shape: (10000, 16)\n",
      "Columns: ['title', 'year', 'doi', 'citations', 'abstract', 'concepts', 'authors', 'references', 'open_access', 'source', 'grants', 'stylometry_score', 'pagerank', 'norm_pagerank', 'norm_stylometry', 'importance_score']\n",
      "\n",
      "Sample row:\n",
      "title               Stylometry and Authorship Attribution: Introdu...\n",
      "year                                                             2012\n",
      "doi                      https://doi.org/10.1080/0013838x.2012.668788\n",
      "citations                                                          11\n",
      "abstract            Click to increase image sizeClick to decrease ...\n",
      "concepts            ['Stylometry', 'Christian ministry', 'Authorsh...\n",
      "authors             ['Javier Calle Martín', 'Antonio Miranda-García']\n",
      "references                                                         11\n",
      "open_access                                                     False\n",
      "source                                                English Studies\n",
      "grants                                                             []\n",
      "stylometry_score                                                    3\n",
      "pagerank                                                     0.000007\n",
      "norm_pagerank                                                     1.0\n",
      "norm_stylometry                                                   1.0\n",
      "importance_score                                                  1.0\n",
      "Name: 0, dtype: object\n",
      "\n",
      "--- Sample Recommended Paper ---\n",
      "authors_raw: Lutosławski, Wincenty\n",
      "author_surnames: ['Lutosławski', 'Wincenty']\n",
      "title: “Chapter III: The Style of Plato.” In The Origin and Growth of Plato’s Logic: With\n",
      "full_text: Lutosławski, Wincenty. “Chapter III: The Style of Plato.” In The Origin and Growth of Plato’s Logic: With\n",
      "an Account of Plato’s Style and of the Chronology of His Writings, 64–193. London: Longmans, Green\n",
      "and Company, 1897. https://archive.org/details/originandgrowth00lutogoog.\n",
      "\n",
      "Citation method matched 7 papers with the recommended list.\n",
      "\n",
      "PageRank method matched 5 papers with the recommended list.\n",
      "\n",
      "--- COMPARISON RESULTS ---\n",
      "Citation method matched 7 papers with the recommended list.\n",
      "PageRank method matched 5 papers with the recommended list.\n",
      "\n",
      "The Citation method performs better in matching with recommended papers.\n",
      "\n",
      "Papers matched by both methods: 5\n",
      "Unique matches from Citation method: 2\n",
      "Unique matches from PageRank method: 0\n",
      "\n",
      "Overlap percentage: 100.00%\n",
      "\n",
      "Detailed comparison results have been saved to 'comparison_results.txt'\n",
      "\n",
      "Analysis complete. Results files have been saved:\n",
      "- comparison_results.txt: Detailed comparison of both methods\n",
      "- citation_matches.csv: Citation method papers with match information\n",
      "- pagerank_matches.csv: PageRank method papers with match information\n"
     ]
    }
   ],
   "source": [
    "import pandas as pd\n",
    "import re\n",
    "import os\n",
    "from fuzzywuzzy import fuzz, process\n",
    "from collections import defaultdict\n",
    "\n",
    "def extract_author_surnames(author_string):\n",
    "    \"\"\"Extract author surnames from various author string formats.\"\"\"\n",
    "    if pd.isna(author_string):\n",
    "        return []\n",
    "    \n",
    "    # Handle list-like strings that may be present in pandas output\n",
    "    if author_string.startswith('[') and author_string.endswith(']'):\n",
    "        try:\n",
    "            # Try to parse as a literal Python list\n",
    "            authors = eval(author_string)\n",
    "            if isinstance(authors, list):\n",
    "                return [a.split()[-1] if ' ' in a else a for a in authors]\n",
    "        except:\n",
    "            pass\n",
    "    \n",
    "    # Try different separators\n",
    "    for sep in [', ', ' and ', ';', ' & ']:\n",
    "        if sep in author_string:\n",
    "            authors = [name.strip() for name in author_string.split(sep)]\n",
    "            return [a.split()[-1] if ' ' in a else a for a in authors]\n",
    "    \n",
    "    # If no separators found, assume it's a single author\n",
    "    return [author_string.split()[-1] if ' ' in author_string else author_string]\n",
    "\n",
    "def parse_recommended_readings(file_path):\n",
    "    \"\"\"Parse the recommended readings text file into a structured format.\"\"\"\n",
    "    papers = []\n",
    "    \n",
    "    with open(file_path, 'r', encoding='utf-8') as f:\n",
    "        content = f.read()\n",
    "    \n",
    "    # Split by consecutive newlines to separate entries\n",
    "    entries = re.split(r'\\n\\s*\\n', content)\n",
    "    \n",
    "    for entry in entries:\n",
    "        if not entry.strip():\n",
    "            continue\n",
    "        \n",
    "        paper = {}\n",
    "        lines = entry.strip().split('\\n')\n",
    "        \n",
    "        # Try to extract the full reference from the first line\n",
    "        if lines:\n",
    "            # Extract authors\n",
    "            first_line = lines[0].strip()\n",
    "            author_match = re.match(r'^([^\\.]+)\\.', first_line)\n",
    "            if author_match:\n",
    "                paper['authors_raw'] = author_match.group(1).strip()\n",
    "                surnames = []\n",
    "                for auth in re.split(r',\\s|\\sand\\s', paper['authors_raw']):\n",
    "                    surname = auth.strip().split()[-1]\n",
    "                    surnames.append(surname)\n",
    "                paper['author_surnames'] = surnames\n",
    "            \n",
    "            # Extract title\n",
    "            title_match = re.search(r'\"([^\"]+)\"', ' '.join(lines))\n",
    "            if title_match:\n",
    "                paper['title'] = title_match.group(1).strip()\n",
    "            else:\n",
    "                # Alternative: Look for title after period\n",
    "                period_split = first_line.split('.', 1)\n",
    "                if len(period_split) > 1:\n",
    "                    paper['title'] = period_split[1].strip()\n",
    "            \n",
    "            # Extract year\n",
    "            year_match = re.search(r'\\((\\d{4})\\)', ' '.join(lines))\n",
    "            if year_match:\n",
    "                paper['year'] = int(year_match.group(1))\n",
    "            \n",
    "            # Store the full text for reference\n",
    "            paper['full_text'] = entry.strip()\n",
    "            \n",
    "            papers.append(paper)\n",
    "    \n",
    "    # Remove papers without titles\n",
    "    papers = [p for p in papers if 'title' in p and p['title']]\n",
    "    \n",
    "    # Clean titles by removing extra whitespace and quotes\n",
    "    for paper in papers:\n",
    "        if 'title' in paper:\n",
    "            paper['title'] = paper['title'].strip(' \"')\n",
    "    \n",
    "    return papers\n",
    "\n",
    "def match_papers(df_papers, recommended_papers, method_name):\n",
    "    \"\"\"\n",
    "    Match papers from a DataFrame with the recommended papers using multiple criteria.\n",
    "    Returns a list of matches and the DataFrame with match information.\n",
    "    \"\"\"\n",
    "    # Add columns to track matches\n",
    "    df_papers = df_papers.copy()\n",
    "    df_papers['recommended_match'] = False\n",
    "    df_papers['match_score'] = 0\n",
    "    df_papers['matched_title'] = ''\n",
    "    \n",
    "    matches = []\n",
    "    \n",
    "    # Normalize titles in the DataFrame\n",
    "    df_papers['normalized_title'] = df_papers['title'].str.lower().str.strip()\n",
    "    \n",
    "    # First pass: Try exact title matches or very close matches\n",
    "    for i, rec_paper in enumerate(recommended_papers):\n",
    "        if 'title' not in rec_paper:\n",
    "            continue\n",
    "            \n",
    "        rec_title = rec_paper['title'].lower().strip()\n",
    "        \n",
    "        # Try direct match first\n",
    "        direct_matches = df_papers[df_papers['normalized_title'] == rec_title]\n",
    "        \n",
    "        if not direct_matches.empty:\n",
    "            for _, match in direct_matches.iterrows():\n",
    "                matches.append({\n",
    "                    'recommended': rec_paper,\n",
    "                    'matched': match,\n",
    "                    'score': 100,\n",
    "                    'match_type': 'exact_title'\n",
    "                })\n",
    "                df_papers.loc[df_papers['title'] == match['title'], 'recommended_match'] = True\n",
    "                df_papers.loc[df_papers['title'] == match['title'], 'match_score'] = 100\n",
    "                df_papers.loc[df_papers['title'] == match['title'], 'matched_title'] = rec_paper['title']\n",
    "        else:\n",
    "            # Try fuzzy matching on title\n",
    "            best_match = None\n",
    "            best_score = 0\n",
    "            \n",
    "            for _, row in df_papers.iterrows():\n",
    "                if not pd.isna(row['title']):\n",
    "                    score = fuzz.token_sort_ratio(rec_title, row['title'].lower())\n",
    "                    \n",
    "                    # Check if years match to improve confidence\n",
    "                    year_bonus = 0\n",
    "                    if 'year' in rec_paper and 'year' in row and not pd.isna(row['year']):\n",
    "                        if rec_paper['year'] == int(row['year']):\n",
    "                            year_bonus = 10\n",
    "                    \n",
    "                    final_score = score + year_bonus\n",
    "                    \n",
    "                    if final_score > best_score and final_score >= 80:  # Higher threshold for title-only match\n",
    "                        best_score = final_score\n",
    "                        best_match = row\n",
    "            \n",
    "            if best_match is not None:\n",
    "                matches.append({\n",
    "                    'recommended': rec_paper,\n",
    "                    'matched': best_match,\n",
    "                    'score': best_score,\n",
    "                    'match_type': 'fuzzy_title'\n",
    "                })\n",
    "                df_papers.loc[df_papers['title'] == best_match['title'], 'recommended_match'] = True\n",
    "                df_papers.loc[df_papers['title'] == best_match['title'], 'match_score'] = best_score\n",
    "                df_papers.loc[df_papers['title'] == best_match['title'], 'matched_title'] = rec_paper['title']\n",
    "    \n",
    "    # Second pass: Try author + year + keyword matching for remaining unmatched papers\n",
    "    unmatched_recommended = [p for p in recommended_papers if 'title' in p and not any(m['recommended']['title'] == p['title'] for m in matches)]\n",
    "    \n",
    "    for rec_paper in unmatched_recommended:\n",
    "        if 'author_surnames' not in rec_paper or 'year' not in rec_paper:\n",
    "            continue\n",
    "            \n",
    "        rec_surnames = rec_paper['author_surnames']\n",
    "        rec_year = rec_paper['year']\n",
    "        rec_title_words = set(re.findall(r'\\b\\w+\\b', rec_paper['title'].lower()))\n",
    "        \n",
    "        for _, row in df_papers[~df_papers['recommended_match']].iterrows():\n",
    "            if pd.isna(row['title']) or pd.isna(row['year']):\n",
    "                continue\n",
    "                \n",
    "            # Extract author surnames from DataFrame\n",
    "            if 'authors' in row and not pd.isna(row['authors']):\n",
    "                df_surnames = extract_author_surnames(row['authors'])\n",
    "            else:\n",
    "                df_surnames = []\n",
    "            \n",
    "            # Check if any author surnames match\n",
    "            author_match = any(surname in df_surnames for surname in rec_surnames)\n",
    "            \n",
    "            # Check if year matches\n",
    "            year_match = abs(rec_year - int(row['year'])) <= 1\n",
    "            \n",
    "            # Check if key words match\n",
    "            row_title_words = set(re.findall(r'\\b\\w+\\b', row['title'].lower()))\n",
    "            common_words = rec_title_words.intersection(row_title_words)\n",
    "            word_match_ratio = len(common_words) / len(rec_title_words) if rec_title_words else 0\n",
    "            \n",
    "            # Combined score\n",
    "            score = 0\n",
    "            if author_match:\n",
    "                score += 30\n",
    "            if year_match:\n",
    "                score += 20\n",
    "            score += int(word_match_ratio * 50)\n",
    "            \n",
    "            if score >= 70:  # Lower threshold for multi-criteria match\n",
    "                matches.append({\n",
    "                    'recommended': rec_paper,\n",
    "                    'matched': row,\n",
    "                    'score': score,\n",
    "                    'match_type': 'author_year_keyword'\n",
    "                })\n",
    "                df_papers.loc[df_papers['title'] == row['title'], 'recommended_match'] = True\n",
    "                df_papers.loc[df_papers['title'] == row['title'], 'match_score'] = score\n",
    "                df_papers.loc[df_papers['title'] == row['title'], 'matched_title'] = rec_paper['title']\n",
    "    \n",
    "    print(f\"\\n{method_name} method matched {len(matches)} papers with the recommended list.\")\n",
    "    \n",
    "    return matches, df_papers\n",
    "\n",
    "def inspect_data_structure(df, name):\n",
    "    \"\"\"Helper function to inspect the structure of a DataFrame.\"\"\"\n",
    "    print(f\"\\n--- {name} Structure ---\")\n",
    "    print(f\"Shape: {df.shape}\")\n",
    "    print(f\"Columns: {df.columns.tolist()}\")\n",
    "    \n",
    "    # Sample data\n",
    "    if not df.empty:\n",
    "        print(\"\\nSample row:\")\n",
    "        print(df.iloc[0])\n",
    "\n",
    "def compare_methods(citation_matches, pagerank_matches, citation_df, pagerank_df):\n",
    "    \"\"\"Compare the results of both methods and provide detailed analysis.\"\"\"\n",
    "    citation_count = len(citation_matches)\n",
    "    pagerank_count = len(pagerank_matches)\n",
    "    \n",
    "    print(f\"\\n--- COMPARISON RESULTS ---\")\n",
    "    print(f\"Citation method matched {citation_count} papers with the recommended list.\")\n",
    "    print(f\"PageRank method matched {pagerank_count} papers with the recommended list.\")\n",
    "    \n",
    "    if citation_count > pagerank_count:\n",
    "        print(\"\\nThe Citation method performs better in matching with recommended papers.\")\n",
    "    elif pagerank_count > citation_count:\n",
    "        print(\"\\nThe PageRank method performs better in matching with recommended papers.\")\n",
    "    else:\n",
    "        print(\"\\nBoth methods perform equally in matching with recommended papers.\")\n",
    "    \n",
    "    # Find papers matched by both methods\n",
    "    citation_matched_titles = [match['matched']['title'] for match in citation_matches]\n",
    "    pagerank_matched_titles = [match['matched']['title'] for match in pagerank_matches]\n",
    "    \n",
    "    common_matches = set(citation_matched_titles).intersection(set(pagerank_matched_titles))\n",
    "    citation_unique = set(citation_matched_titles) - common_matches\n",
    "    pagerank_unique = set(pagerank_matched_titles) - common_matches\n",
    "    \n",
    "    print(f\"\\nPapers matched by both methods: {len(common_matches)}\")\n",
    "    print(f\"Unique matches from Citation method: {len(citation_unique)}\")\n",
    "    print(f\"Unique matches from PageRank method: {len(pagerank_unique)}\")\n",
    "    \n",
    "    # Calculate overlap percentage\n",
    "    if citation_count > 0 and pagerank_count > 0:\n",
    "        overlap_pct = (len(common_matches) / min(citation_count, pagerank_count)) * 100\n",
    "        print(f\"\\nOverlap percentage: {overlap_pct:.2f}%\")\n",
    "    \n",
    "    # Generate detailed report\n",
    "    with open(\"comparison_results_10000.txt\", \"w\", encoding=\"utf-8\") as f:\n",
    "        f.write(\"=== STYLOMETRY PAPER COMPARISON RESULTS ===\\n\\n\")\n",
    "        f.write(f\"Citation method matched: {citation_count} papers\\n\")\n",
    "        f.write(f\"PageRank method matched: {pagerank_count} papers\\n\")\n",
    "        \n",
    "        if citation_count > pagerank_count:\n",
    "            f.write(\"\\nThe Citation method performs better in matching with recommended papers.\\n\")\n",
    "        elif pagerank_count > citation_count:\n",
    "            f.write(\"\\nThe PageRank method performs better in matching with recommended papers.\\n\")\n",
    "        else:\n",
    "            f.write(\"\\nBoth methods perform equally in matching with recommended papers.\\n\")\n",
    "        \n",
    "        f.write(f\"\\nPapers matched by both methods: {len(common_matches)}\\n\")\n",
    "        f.write(f\"Papers matched only by Citation method: {len(citation_unique)}\\n\")\n",
    "        f.write(f\"Papers matched only by PageRank method: {len(pagerank_unique)}\\n\")\n",
    "        \n",
    "        # Write common matches\n",
    "        f.write(\"\\n\\n=== PAPERS MATCHED BY BOTH METHODS ===\\n\")\n",
    "        for title in common_matches:\n",
    "            f.write(f\"- {title}\\n\")\n",
    "        \n",
    "        # Write unique citation matches\n",
    "        f.write(\"\\n\\n=== PAPERS MATCHED ONLY BY CITATION METHOD ===\\n\")\n",
    "        for title in citation_unique:\n",
    "            f.write(f\"- {title}\\n\")\n",
    "        \n",
    "        # Write unique pagerank matches\n",
    "        f.write(\"\\n\\n=== PAPERS MATCHED ONLY BY PAGERANK METHOD ===\\n\")\n",
    "        for title in pagerank_unique:\n",
    "            f.write(f\"- {title}\\n\")\n",
    "        \n",
    "        # Write details of all matches for citation method\n",
    "        f.write(\"\\n\\n=== DETAILED CITATION METHOD MATCHES ===\\n\")\n",
    "        for match in sorted(citation_matches, key=lambda x: x['score'], reverse=True):\n",
    "            f.write(f\"\\nRecommended Paper: {match['recommended']['title']}\\n\")\n",
    "            if 'year' in match['recommended']:\n",
    "                f.write(f\"Year: {match['recommended']['year']}\\n\")\n",
    "            if 'author_surnames' in match['recommended']:\n",
    "                f.write(f\"Authors: {', '.join(match['recommended']['author_surnames'])}\\n\")\n",
    "            f.write(f\"Matched with: {match['matched']['title']}\\n\")\n",
    "            if 'year' in match['matched'] and not pd.isna(match['matched']['year']):\n",
    "                f.write(f\"Year: {match['matched']['year']}\\n\")\n",
    "            if 'authors' in match['matched'] and not pd.isna(match['matched']['authors']):\n",
    "                f.write(f\"Authors: {match['matched']['authors']}\\n\")\n",
    "            f.write(f\"Match Score: {match['score']}\\n\")\n",
    "            f.write(f\"Match Type: {match['match_type']}\\n\")\n",
    "        \n",
    "        # Write details of all matches for pagerank method\n",
    "        f.write(\"\\n\\n=== DETAILED PAGERANK METHOD MATCHES ===\\n\")\n",
    "        for match in sorted(pagerank_matches, key=lambda x: x['score'], reverse=True):\n",
    "            f.write(f\"\\nRecommended Paper: {match['recommended']['title']}\\n\")\n",
    "            if 'year' in match['recommended']:\n",
    "                f.write(f\"Year: {match['recommended']['year']}\\n\")\n",
    "            if 'author_surnames' in match['recommended']:\n",
    "                f.write(f\"Authors: {', '.join(match['recommended']['author_surnames'])}\\n\")\n",
    "            f.write(f\"Matched with: {match['matched']['title']}\\n\")\n",
    "            if 'year' in match['matched'] and not pd.isna(match['matched']['year']):\n",
    "                f.write(f\"Year: {match['matched']['year']}\\n\")\n",
    "            if 'authors' in match['matched'] and not pd.isna(match['matched']['authors']):\n",
    "                f.write(f\"Authors: {match['matched']['authors']}\\n\")\n",
    "            f.write(f\"Match Score: {match['score']}\\n\")\n",
    "            f.write(f\"Match Type: {match['match_type']}\\n\")\n",
    "    \n",
    "    print(f\"\\nDetailed comparison results have been saved to 'comparison_results.txt'\")\n",
    "    \n",
    "    return {\n",
    "        'citation_count': citation_count,\n",
    "        'pagerank_count': pagerank_count,\n",
    "        'common_count': len(common_matches),\n",
    "        'citation_unique': len(citation_unique),\n",
    "        'pagerank_unique': len(pagerank_unique)\n",
    "    }\n",
    "\n",
    "def main():\n",
    "    \"\"\"Main function to run the comparison.\"\"\"\n",
    "    print(\"Stylometry Papers Comparison Tool\")\n",
    "    print(\"--------------------------------\")\n",
    "    \n",
    "    # File paths\n",
    "    citation_file = \"top_100_important_stylometry_papers.csv\"\n",
    "    pagerank_file = \"top_100_pagerank_stylometry_papers.csv\"\n",
    "    recommended_file = \"Recommended_readings.txt\"\n",
    "    \n",
    "    # Check if files exist\n",
    "    for file_path in [citation_file, pagerank_file, recommended_file]:\n",
    "        if not os.path.exists(file_path):\n",
    "            print(f\"Error: File '{file_path}' not found.\")\n",
    "            return\n",
    "    \n",
    "    # Load data\n",
    "    try:\n",
    "        citation_df = pd.read_csv(citation_file)\n",
    "        pagerank_df = pd.read_csv(pagerank_file)\n",
    "        \n",
    "        # Ensure column names are consistent\n",
    "        required_columns = ['title', 'year']\n",
    "        for df_name, df in [('Citation', citation_df), ('PageRank', pagerank_df)]:\n",
    "            missing_cols = [col for col in required_columns if col not in df.columns]\n",
    "            if missing_cols:\n",
    "                print(f\"Warning: {df_name} DataFrame is missing required columns: {missing_cols}\")\n",
    "                \n",
    "                # Try to find alternative column names\n",
    "                for missing in missing_cols:\n",
    "                    if missing == 'title':\n",
    "                        potential_cols = ['Title', 'paper_title', 'name']\n",
    "                    elif missing == 'year':\n",
    "                        potential_cols = ['Year', 'publication_year', 'pub_year', 'date']\n",
    "                    \n",
    "                    for potential in potential_cols:\n",
    "                        if potential in df.columns:\n",
    "                            df[missing] = df[potential]\n",
    "                            print(f\"Using '{potential}' as '{missing}'\")\n",
    "                            break\n",
    "        \n",
    "        # Parse recommended readings\n",
    "        recommended_papers = parse_recommended_readings(recommended_file)\n",
    "        \n",
    "        print(f\"Loaded {len(citation_df)} papers from citation method.\")\n",
    "        print(f\"Loaded {len(pagerank_df)} papers from PageRank method.\")\n",
    "        print(f\"Parsed {len(recommended_papers)} recommended papers.\")\n",
    "        \n",
    "        # Inspect data structure\n",
    "        inspect_data_structure(citation_df, \"Citation DataFrame\")\n",
    "        inspect_data_structure(pagerank_df, \"PageRank DataFrame\")\n",
    "        \n",
    "        # Sample recommended papers\n",
    "        if recommended_papers:\n",
    "            print(\"\\n--- Sample Recommended Paper ---\")\n",
    "            for key, value in recommended_papers[0].items():\n",
    "                print(f\"{key}: {value}\")\n",
    "        \n",
    "        # Find matches\n",
    "        citation_matches, citation_df_with_matches = match_papers(citation_df, recommended_papers, \"Citation\")\n",
    "        pagerank_matches, pagerank_df_with_matches = match_papers(pagerank_df, recommended_papers, \"PageRank\")\n",
    "        \n",
    "        # Compare results\n",
    "        comparison_results = compare_methods(citation_matches, pagerank_matches, citation_df_with_matches, pagerank_df_with_matches)\n",
    "        \n",
    "        # Save matched DataFrames\n",
    "        citation_df_with_matches.to_csv(\"citation_matches.csv\", index=False)\n",
    "        pagerank_df_with_matches.to_csv(\"pagerank_matches.csv\", index=False)\n",
    "        \n",
    "        print(\"\\nAnalysis complete. Results files have been saved:\")\n",
    "        print(\"- comparison_results.txt: Detailed comparison of both methods\")\n",
    "        print(\"- citation_matches.csv: Citation method papers with match information\")\n",
    "        print(\"- pagerank_matches.csv: PageRank method papers with match information\")\n",
    "        \n",
    "    except Exception as e:\n",
    "        print(f\"Error during analysis: {str(e)}\")\n",
    "        import traceback\n",
    "        traceback.print_exc()\n",
    "\n",
    "if __name__ == \"__main__\":\n",
    "    main()"
   ]
  },
  {
   "cell_type": "code",
   "execution_count": null,
   "id": "1d8223f1-3799-408f-8c7a-141d620e8a55",
   "metadata": {},
   "outputs": [],
   "source": []
  },
  {
   "cell_type": "markdown",
   "id": "dadc7310-4c0e-471d-9f82-6fedaa41f718",
   "metadata": {},
   "source": [
    "## Rank Correlation"
   ]
  },
  {
   "cell_type": "code",
   "execution_count": 15,
   "id": "0d01b4b6-8c10-413a-bf25-ed2f3938b934",
   "metadata": {},
   "outputs": [
    {
     "name": "stdout",
     "output_type": "stream",
     "text": [
      "Stylometry Papers Comparison Tool\n",
      "--------------------------------\n",
      "Loaded 100 papers from citation method.\n",
      "Loaded 100 papers from PageRank method.\n",
      "Parsed 39 recommended papers.\n",
      "\n",
      "Citation method matched 5 papers with the recommended list.\n",
      "\n",
      "PageRank method matched 3 papers with the recommended list.\n",
      "\n",
      "--- COMPARISON RESULTS ---\n",
      "Citation method matched 5 papers with the recommended list.\n",
      "PageRank method matched 3 papers with the recommended list.\n",
      "\n",
      "The Citation method performs better in matching with recommended papers.\n",
      "\n",
      "Papers matched by both methods: 3\n",
      "Unique matches from Citation method: 2\n",
      "Unique matches from PageRank method: 0\n",
      "\n",
      "Overlap percentage: 100.00%\n",
      "\n",
      "Detailed comparison results have been saved to 'comparison_results.txt'\n",
      "\n",
      "--- RANK CORRELATION ANALYSIS ---\n",
      "Number of common papers between both methods: 62\n",
      "Successfully aligned 62 papers for correlation analysis\n",
      "\n",
      "Spearman's Rank Correlation:\n",
      "Citations vs PageRank: nan (p-value: nan)\n",
      "Importance Scores: 0.7249 (p-value: 0.0000)\n",
      "\n",
      "Kendall's Tau:\n",
      "Citations vs PageRank: nan (p-value: nan)\n",
      "Importance Scores: 0.6017 (p-value: 0.0000)\n",
      "\n",
      "Analysis complete.\n"
     ]
    },
    {
     "name": "stderr",
     "output_type": "stream",
     "text": [
      "C:\\Users\\AMAN\\AppData\\Roaming\\Python\\Python311\\site-packages\\scipy\\stats\\_stats_py.py:5445: ConstantInputWarning: An input array is constant; the correlation coefficient is not defined.\n",
      "  warnings.warn(stats.ConstantInputWarning(warn_msg))\n"
     ]
    }
   ],
   "source": [
    "import pandas as pd\n",
    "import numpy as np\n",
    "from scipy.stats import spearmanr, kendalltau\n",
    "\n",
    "def apply_rank_correlation(citation_df, pagerank_df):\n",
    "    \"\"\"Apply rank correlation to compare citation and PageRank methods.\"\"\"\n",
    "    print(\"\\n--- RANK CORRELATION ANALYSIS ---\")\n",
    "    \n",
    "    # Ensure we have the same papers in both DataFrames\n",
    "    citation_df['paper_id'] = citation_df['title'] + '_' + citation_df['year'].astype(str)\n",
    "    pagerank_df['paper_id'] = pagerank_df['title'] + '_' + pagerank_df['year'].astype(str)\n",
    "    \n",
    "    # Find common papers\n",
    "    common_papers = set(citation_df['paper_id']).intersection(set(pagerank_df['paper_id']))\n",
    "    print(f\"Number of common papers between both methods: {len(common_papers)}\")\n",
    "    \n",
    "    # Filter for common papers - ensure we create new dataframes\n",
    "    citation_common = citation_df[citation_df['paper_id'].isin(common_papers)].copy()\n",
    "    pagerank_common = pagerank_df[pagerank_df['paper_id'].isin(common_papers)].copy()\n",
    "    \n",
    "    # Create a merged dataframe to ensure perfect alignment\n",
    "    merged_df = citation_common[['paper_id', 'citations', 'importance_score']].merge(\n",
    "        pagerank_common[['paper_id', 'pagerank', 'importance_score']],\n",
    "        on='paper_id',\n",
    "        suffixes=('_citation', '_pagerank')\n",
    "    )\n",
    "    \n",
    "    print(f\"Successfully aligned {len(merged_df)} papers for correlation analysis\")\n",
    "    \n",
    "    # Now extract metrics from the properly aligned dataframe\n",
    "    citation_metrics = {\n",
    "        'citations': merged_df['citations'].values,\n",
    "        'importance_score': merged_df['importance_score_citation'].values\n",
    "    }\n",
    "    \n",
    "    pagerank_metrics = {\n",
    "        'pagerank': merged_df['pagerank'].values,\n",
    "        'importance_score': merged_df['importance_score_pagerank'].values\n",
    "    }\n",
    "    \n",
    "    # Calculate Spearman correlation\n",
    "    spearman_citations_vs_pagerank = spearmanr(citation_metrics['citations'], pagerank_metrics['pagerank'])\n",
    "    spearman_importance_scores = spearmanr(citation_metrics['importance_score'], pagerank_metrics['importance_score'])\n",
    "    \n",
    "    # Calculate Kendall's Tau\n",
    "    kendall_citations_vs_pagerank = kendalltau(citation_metrics['citations'], pagerank_metrics['pagerank'])\n",
    "    kendall_importance_scores = kendalltau(citation_metrics['importance_score'], pagerank_metrics['importance_score'])\n",
    "    \n",
    "    # Print results\n",
    "    print(\"\\nSpearman's Rank Correlation:\")\n",
    "    print(f\"Citations vs PageRank: {spearman_citations_vs_pagerank.correlation:.4f} (p-value: {spearman_citations_vs_pagerank.pvalue:.4f})\")\n",
    "    print(f\"Importance Scores: {spearman_importance_scores.correlation:.4f} (p-value: {spearman_importance_scores.pvalue:.4f})\")\n",
    "    \n",
    "    print(\"\\nKendall's Tau:\")\n",
    "    print(f\"Citations vs PageRank: {kendall_citations_vs_pagerank.correlation:.4f} (p-value: {kendall_citations_vs_pagerank.pvalue:.4f})\")\n",
    "    print(f\"Importance Scores: {kendall_importance_scores.correlation:.4f} (p-value: {kendall_importance_scores.pvalue:.4f})\")\n",
    "    \n",
    "    # Save the aligned data for verification if needed\n",
    "    merged_df.to_csv(\"aligned_papers_for_correlation.csv\", index=False)\n",
    "    \n",
    "    return merged_df  # Return the aligned dataframe for potential further analysis\n",
    "def main():\n",
    "    \"\"\"Main function to run the comparison.\"\"\"\n",
    "    print(\"Stylometry Papers Comparison Tool\")\n",
    "    print(\"--------------------------------\")\n",
    "    \n",
    "    # File paths\n",
    "    citation_file = \"top_100_stylometry_papers_based_on_citation_count.csv\"\n",
    "    pagerank_file = \"top_100_stylometry_papers_based_on_PageRank.csv\"\n",
    "    recommended_file = \"Recommended_readings.txt\"\n",
    "    \n",
    "    # Check if files exist\n",
    "    for file_path in [citation_file, pagerank_file, recommended_file]:\n",
    "        if not os.path.exists(file_path):\n",
    "            print(f\"Error: File '{file_path}' not found.\")\n",
    "            return\n",
    "    \n",
    "    # Load data\n",
    "    try:\n",
    "        citation_df = pd.read_csv(citation_file)\n",
    "        pagerank_df = pd.read_csv(pagerank_file)\n",
    "        \n",
    "        # Ensure column names are consistent\n",
    "        required_columns = ['title', 'year']\n",
    "        for df_name, df in [('Citation', citation_df), ('PageRank', pagerank_df)]:\n",
    "            missing_cols = [col for col in required_columns if col not in df.columns]\n",
    "            if missing_cols:\n",
    "                print(f\"Warning: {df_name} DataFrame is missing required columns: {missing_cols}\")\n",
    "                \n",
    "                # Try to find alternative column names\n",
    "                for missing in missing_cols:\n",
    "                    if missing == 'title':\n",
    "                        potential_cols = ['Title', 'paper_title', 'name']\n",
    "                    elif missing == 'year':\n",
    "                        potential_cols = ['Year', 'publication_year', 'pub_year', 'date']\n",
    "                    \n",
    "                    for potential in potential_cols:\n",
    "                        if potential in df.columns:\n",
    "                            df[missing] = df[potential]\n",
    "                            print(f\"Using '{potential}' as '{missing}'\")\n",
    "                            break\n",
    "        \n",
    "        # Parse recommended readings\n",
    "        recommended_papers = parse_recommended_readings(recommended_file)\n",
    "        \n",
    "        print(f\"Loaded {len(citation_df)} papers from citation method.\")\n",
    "        print(f\"Loaded {len(pagerank_df)} papers from PageRank method.\")\n",
    "        print(f\"Parsed {len(recommended_papers)} recommended papers.\")\n",
    "        \n",
    "        # Find matches\n",
    "        citation_matches, citation_df_with_matches = match_papers(citation_df, recommended_papers, \"Citation\")\n",
    "        pagerank_matches, pagerank_df_with_matches = match_papers(pagerank_df, recommended_papers, \"PageRank\")\n",
    "        \n",
    "        # Compare results\n",
    "        comparison_results = compare_methods(citation_matches, pagerank_matches, citation_df_with_matches, pagerank_df_with_matches)\n",
    "        \n",
    "        # Apply rank correlation analysis\n",
    "        apply_rank_correlation(citation_df, pagerank_df)\n",
    "        \n",
    "        # Save matched DataFrames\n",
    "        citation_df_with_matches.to_csv(\"citation_matches.csv\", index=False)\n",
    "        pagerank_df_with_matches.to_csv(\"pagerank_matches.csv\", index=False)\n",
    "        \n",
    "        print(\"\\nAnalysis complete.\")\n",
    "        \n",
    "    except Exception as e:\n",
    "        print(f\"Error during analysis: {str(e)}\")\n",
    "        import traceback\n",
    "        traceback.print_exc()\n",
    "\n",
    "if __name__ == \"__main__\":\n",
    "    main()"
   ]
  },
  {
   "cell_type": "code",
   "execution_count": null,
   "id": "0ea58beb-2277-4bc3-a101-1ba808cb9b04",
   "metadata": {},
   "outputs": [],
   "source": []
  },
  {
   "cell_type": "code",
   "execution_count": null,
   "id": "451202d4-4dc1-43c3-9402-dc6c6a4d9e48",
   "metadata": {},
   "outputs": [],
   "source": []
  },
  {
   "cell_type": "code",
   "execution_count": null,
   "id": "6f54491c-4e38-4705-a9f5-43b30bccb803",
   "metadata": {},
   "outputs": [],
   "source": []
  }
 ],
 "metadata": {
  "kernelspec": {
   "display_name": "Python 3 (ipykernel)",
   "language": "python",
   "name": "python3"
  },
  "language_info": {
   "codemirror_mode": {
    "name": "ipython",
    "version": 3
   },
   "file_extension": ".py",
   "mimetype": "text/x-python",
   "name": "python",
   "nbconvert_exporter": "python",
   "pygments_lexer": "ipython3",
   "version": "3.11.6"
  }
 },
 "nbformat": 4,
 "nbformat_minor": 5
}
